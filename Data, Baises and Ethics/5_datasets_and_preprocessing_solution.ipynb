{
 "cells": [
  {
   "cell_type": "markdown",
   "id": "6950a751-8afc-4a7f-8e9b-02741bb8ab85",
   "metadata": {},
   "source": [
    "# Preliminaries\n",
    "In this tutorial we will check out the 🤗 Datasets library, how to work with datasets obtained through HuggingFace and the kind of preprocessing that the library enables before piping your data into your training pipeline. We are going to deal with loading and processing existing data, streaming datasets which are too big for local memory, slice and dicing and further manipulating a dataset. In a second section we will also look at tokenization as the core preprocessing step for NLP and how to apply different tokenizers and perform tasks such as encoding and decoding.\n",
    "\n",
    "Parts of this tutorial is guided by the official [HuggingFace Datasets Documentation](https://huggingface.co/docs/datasets/v2.20.0/en/index). Check it out to learn what other things you can do with the help of the library.\n",
    "\n",
    "First, make sure we have installed all the relevant libraries."
   ]
  },
  {
   "cell_type": "code",
   "execution_count": null,
   "id": "15557582-cf50-40f2-9f82-a300b408c250",
   "metadata": {},
   "outputs": [],
   "source": [
    "! pip install transformers[torch] datasets tf-keras"
   ]
  },
  {
   "cell_type": "markdown",
   "id": "57a9ec30-bc3a-40b5-8103-93d066d8db2f",
   "metadata": {},
   "source": [
    "# Handling Data with Huggingface\n",
    "\n",
    "## Loading local data"
   ]
  },
  {
   "cell_type": "code",
   "execution_count": 1,
   "id": "7c9dfb01-6e26-4383-af94-e064be9553d6",
   "metadata": {},
   "outputs": [],
   "source": [
    "from transformers import AutoTokenizer\n",
    "from datasets import load_dataset"
   ]
  },
  {
   "cell_type": "markdown",
   "id": "36b1486d-8e08-4fde-b924-5a4dfe3b3a26",
   "metadata": {},
   "source": [
    "We want to load a NLP dataset to work with it. We will choose the [drugsCom dataset](https://archive.ics.uci.edu/dataset/462/drug+review+dataset+drugs+com), a dataset of patient reviews of medication. \n",
    "\n",
    "Let's download and prepare the data."
   ]
  },
  {
   "cell_type": "code",
   "execution_count": null,
   "id": "cf9ab496-1232-4616-aeb6-47a347396386",
   "metadata": {},
   "outputs": [],
   "source": [
    "!wget \"https://archive.ics.uci.edu/ml/machine-learning-databases/00462/drugsCom_raw.zip\"\n",
    "!unzip drugsCom_raw.zip"
   ]
  },
  {
   "cell_type": "markdown",
   "id": "96d94d43-adf2-4def-ba66-f7f264840770",
   "metadata": {},
   "source": [
    "We will use the 🤗 Datasets library to load and deal with our local data. \n",
    "\n",
    "We will parse both train and test sets into a single DatasetDict object first."
   ]
  },
  {
   "cell_type": "code",
   "execution_count": 2,
   "id": "0685530e-9e10-490d-8a83-bc05f63829a4",
   "metadata": {},
   "outputs": [],
   "source": [
    "data_files = {\"train\": \"drugsComTrain_raw.tsv\", \"test\": \"drugsComTest_raw.tsv\"}\n",
    "\n",
    "drug_dataset = load_dataset(\"csv\", data_files=data_files, delimiter=\"\\t\")"
   ]
  },
  {
   "cell_type": "markdown",
   "id": "3787f093-77b6-4794-82d1-c4f9acc2d1c8",
   "metadata": {},
   "source": [
    "Let's check out some stats about our dataset:"
   ]
  },
  {
   "cell_type": "code",
   "execution_count": 3,
   "id": "627d5e69-3ebc-4b24-82e7-ae49d49c3de3",
   "metadata": {},
   "outputs": [
    {
     "data": {
      "text/plain": [
       "DatasetDict({\n",
       "    train: Dataset({\n",
       "        features: ['Unnamed: 0', 'drugName', 'condition', 'review', 'rating', 'date', 'usefulCount'],\n",
       "        num_rows: 161297\n",
       "    })\n",
       "    test: Dataset({\n",
       "        features: ['Unnamed: 0', 'drugName', 'condition', 'review', 'rating', 'date', 'usefulCount'],\n",
       "        num_rows: 53766\n",
       "    })\n",
       "})"
      ]
     },
     "execution_count": 3,
     "metadata": {},
     "output_type": "execute_result"
    }
   ],
   "source": [
    "drug_dataset"
   ]
  },
  {
   "cell_type": "markdown",
   "id": "00708c88-c9dc-4564-80f4-c62b10406ec8",
   "metadata": {},
   "source": [
    "We can easily get an idea about the dataset from this including the size, number of instances, the train and test split and the different fields present.\n",
    "\n",
    "Let's look at some examples of the dataset in more detail:"
   ]
  },
  {
   "cell_type": "code",
   "execution_count": 4,
   "id": "8db9ad99-0d93-42cd-ace4-b2fa57a55165",
   "metadata": {},
   "outputs": [
    {
     "data": {
      "text/plain": [
       "{'Unnamed: 0': [87571, 178045, 80482],\n",
       " 'drugName': ['Naproxen', 'Duloxetine', 'Mobic'],\n",
       " 'condition': ['Gout, Acute', 'ibromyalgia', 'Inflammatory Conditions'],\n",
       " 'review': ['\"like the previous person mention, I&#039;m a strong believer of aleve, it works faster for my gout than the prescription meds I take. No more going to the doctor for refills.....Aleve works!\"',\n",
       "  '\"I have taken Cymbalta for about a year and a half for fibromyalgia pain. It is great\\r\\nas a pain reducer and an anti-depressant, however, the side effects outweighed \\r\\nany benefit I got from it. I had trouble with restlessness, being tired constantly,\\r\\ndizziness, dry mouth, numbness and tingling in my feet, and horrible sweating. I am\\r\\nbeing weaned off of it now. Went from 60 mg to 30mg and now to 15 mg. I will be\\r\\noff completely in about a week. The fibro pain is coming back, but I would rather deal with it than the side effects.\"',\n",
       "  '\"I have been taking Mobic for over a year with no side effects other than an elevated blood pressure.  I had severe knee and ankle pain which completely went away after taking Mobic.  I attempted to stop the medication however pain returned after a few days.\"'],\n",
       " 'rating': [9.0, 3.0, 10.0],\n",
       " 'date': ['September 2, 2015', 'November 7, 2011', 'June 5, 2013'],\n",
       " 'usefulCount': [36, 13, 128]}"
      ]
     },
     "execution_count": 4,
     "metadata": {},
     "output_type": "execute_result"
    }
   ],
   "source": [
    "drug_sample = drug_dataset[\"train\"].shuffle(seed=42).select(range(1000))\n",
    "# Peek at the first few examples\n",
    "drug_sample[:3]"
   ]
  },
  {
   "cell_type": "markdown",
   "id": "d0df890e-5536-480e-bee6-93c5d1f9f9a5",
   "metadata": {},
   "source": [
    "The 'Unnamed: 0' column does not have a proper name. Let's fix this. Our assumption is that this could serve as a unique identifier for our datapoints. \n",
    "\n",
    "Let's check if that asummption holds:"
   ]
  },
  {
   "cell_type": "code",
   "execution_count": 5,
   "id": "3d7a3f2b-f7a0-415a-a8c9-e46d2dcd5fd9",
   "metadata": {},
   "outputs": [],
   "source": [
    "for split in drug_dataset.keys():\n",
    "    assert len(drug_dataset[split]) == len(drug_dataset[split].unique(\"Unnamed: 0\"))"
   ]
  },
  {
   "cell_type": "markdown",
   "id": "54ec909d-53b2-40fe-b418-d7aad2dee0cc",
   "metadata": {},
   "source": [
    "All values seem to be unique. Let's make this our id field and rename the column. This works with the *rename_column* method"
   ]
  },
  {
   "cell_type": "code",
   "execution_count": 6,
   "id": "1ece0e72-dfff-4b76-ad56-57d069cf8e64",
   "metadata": {},
   "outputs": [
    {
     "data": {
      "text/plain": [
       "DatasetDict({\n",
       "    train: Dataset({\n",
       "        features: ['patient_id', 'drugName', 'condition', 'review', 'rating', 'date', 'usefulCount'],\n",
       "        num_rows: 161297\n",
       "    })\n",
       "    test: Dataset({\n",
       "        features: ['patient_id', 'drugName', 'condition', 'review', 'rating', 'date', 'usefulCount'],\n",
       "        num_rows: 53766\n",
       "    })\n",
       "})"
      ]
     },
     "execution_count": 6,
     "metadata": {},
     "output_type": "execute_result"
    }
   ],
   "source": [
    "drug_dataset = drug_dataset.rename_column(\n",
    "    original_column_name=\"Unnamed: 0\", new_column_name=\"patient_id\"\n",
    ")\n",
    "drug_dataset"
   ]
  },
  {
   "cell_type": "markdown",
   "id": "b26b957d-fd18-4e0d-8cfd-ddb408508efd",
   "metadata": {},
   "source": [
    "One of the strongest suits of the Datasets library is that it enables us to apply transformations to our whole dataset comfortably.\n",
    "\n",
    "If we check the condition column above we can see that some instances are written in upper case and some in lower case. Let's fix this by unifying the condition labels to all lowercase. \n",
    "\n",
    "Go ahead and use the [Datasets Map](https://huggingface.co/docs/datasets/v2.1.0/en/process#map) functions for this and overwriting the existing field."
   ]
  },
  {
   "cell_type": "code",
   "execution_count": 7,
   "id": "9c004fb7-6ad3-4de3-8a70-a1a5c29b1548",
   "metadata": {
    "collapsed": true,
    "jupyter": {
     "outputs_hidden": true
    }
   },
   "outputs": [
    {
     "data": {
      "application/vnd.jupyter.widget-view+json": {
       "model_id": "7471214ed82f44fea568e6b8c40de42c",
       "version_major": 2,
       "version_minor": 0
      },
      "text/plain": [
       "Map:   0%|          | 0/161297 [00:00<?, ? examples/s]"
      ]
     },
     "metadata": {},
     "output_type": "display_data"
    },
    {
     "ename": "AttributeError",
     "evalue": "'NoneType' object has no attribute 'lower'",
     "output_type": "error",
     "traceback": [
      "\u001b[0;31m---------------------------------------------------------------------------\u001b[0m",
      "\u001b[0;31mAttributeError\u001b[0m                            Traceback (most recent call last)",
      "Cell \u001b[0;32mIn[7], line 5\u001b[0m\n\u001b[1;32m      2\u001b[0m     \u001b[38;5;28;01mreturn\u001b[39;00m {\u001b[38;5;124m\"\u001b[39m\u001b[38;5;124mcondition\u001b[39m\u001b[38;5;124m\"\u001b[39m: example[\u001b[38;5;124m\"\u001b[39m\u001b[38;5;124mcondition\u001b[39m\u001b[38;5;124m\"\u001b[39m]\u001b[38;5;241m.\u001b[39mlower()}\n\u001b[1;32m      4\u001b[0m \u001b[38;5;66;03m### TODO: Apply the lowercasing function to our whole dataset.\u001b[39;00m\n\u001b[0;32m----> 5\u001b[0m \u001b[43mdrug_dataset\u001b[49m\u001b[38;5;241;43m.\u001b[39;49m\u001b[43mmap\u001b[49m\u001b[43m(\u001b[49m\u001b[43mlowercase_condition\u001b[49m\u001b[43m)\u001b[49m\n",
      "File \u001b[0;32m~/dev/adnlp_notebooks/venv/lib/python3.10/site-packages/datasets/dataset_dict.py:869\u001b[0m, in \u001b[0;36mDatasetDict.map\u001b[0;34m(self, function, with_indices, with_rank, input_columns, batched, batch_size, drop_last_batch, remove_columns, keep_in_memory, load_from_cache_file, cache_file_names, writer_batch_size, features, disable_nullable, fn_kwargs, num_proc, desc)\u001b[0m\n\u001b[1;32m    866\u001b[0m \u001b[38;5;28;01mif\u001b[39;00m cache_file_names \u001b[38;5;129;01mis\u001b[39;00m \u001b[38;5;28;01mNone\u001b[39;00m:\n\u001b[1;32m    867\u001b[0m     cache_file_names \u001b[38;5;241m=\u001b[39m {k: \u001b[38;5;28;01mNone\u001b[39;00m \u001b[38;5;28;01mfor\u001b[39;00m k \u001b[38;5;129;01min\u001b[39;00m \u001b[38;5;28mself\u001b[39m}\n\u001b[1;32m    868\u001b[0m \u001b[38;5;28;01mreturn\u001b[39;00m DatasetDict(\n\u001b[0;32m--> 869\u001b[0m     {\n\u001b[1;32m    870\u001b[0m         k: dataset\u001b[38;5;241m.\u001b[39mmap(\n\u001b[1;32m    871\u001b[0m             function\u001b[38;5;241m=\u001b[39mfunction,\n\u001b[1;32m    872\u001b[0m             with_indices\u001b[38;5;241m=\u001b[39mwith_indices,\n\u001b[1;32m    873\u001b[0m             with_rank\u001b[38;5;241m=\u001b[39mwith_rank,\n\u001b[1;32m    874\u001b[0m             input_columns\u001b[38;5;241m=\u001b[39minput_columns,\n\u001b[1;32m    875\u001b[0m             batched\u001b[38;5;241m=\u001b[39mbatched,\n\u001b[1;32m    876\u001b[0m             batch_size\u001b[38;5;241m=\u001b[39mbatch_size,\n\u001b[1;32m    877\u001b[0m             drop_last_batch\u001b[38;5;241m=\u001b[39mdrop_last_batch,\n\u001b[1;32m    878\u001b[0m             remove_columns\u001b[38;5;241m=\u001b[39mremove_columns,\n\u001b[1;32m    879\u001b[0m             keep_in_memory\u001b[38;5;241m=\u001b[39mkeep_in_memory,\n\u001b[1;32m    880\u001b[0m             load_from_cache_file\u001b[38;5;241m=\u001b[39mload_from_cache_file,\n\u001b[1;32m    881\u001b[0m             cache_file_name\u001b[38;5;241m=\u001b[39mcache_file_names[k],\n\u001b[1;32m    882\u001b[0m             writer_batch_size\u001b[38;5;241m=\u001b[39mwriter_batch_size,\n\u001b[1;32m    883\u001b[0m             features\u001b[38;5;241m=\u001b[39mfeatures,\n\u001b[1;32m    884\u001b[0m             disable_nullable\u001b[38;5;241m=\u001b[39mdisable_nullable,\n\u001b[1;32m    885\u001b[0m             fn_kwargs\u001b[38;5;241m=\u001b[39mfn_kwargs,\n\u001b[1;32m    886\u001b[0m             num_proc\u001b[38;5;241m=\u001b[39mnum_proc,\n\u001b[1;32m    887\u001b[0m             desc\u001b[38;5;241m=\u001b[39mdesc,\n\u001b[1;32m    888\u001b[0m         )\n\u001b[1;32m    889\u001b[0m         \u001b[38;5;28;01mfor\u001b[39;00m k, dataset \u001b[38;5;129;01min\u001b[39;00m \u001b[38;5;28mself\u001b[39m\u001b[38;5;241m.\u001b[39mitems()\n\u001b[1;32m    890\u001b[0m     }\n\u001b[1;32m    891\u001b[0m )\n",
      "File \u001b[0;32m~/dev/adnlp_notebooks/venv/lib/python3.10/site-packages/datasets/dataset_dict.py:870\u001b[0m, in \u001b[0;36m<dictcomp>\u001b[0;34m(.0)\u001b[0m\n\u001b[1;32m    866\u001b[0m \u001b[38;5;28;01mif\u001b[39;00m cache_file_names \u001b[38;5;129;01mis\u001b[39;00m \u001b[38;5;28;01mNone\u001b[39;00m:\n\u001b[1;32m    867\u001b[0m     cache_file_names \u001b[38;5;241m=\u001b[39m {k: \u001b[38;5;28;01mNone\u001b[39;00m \u001b[38;5;28;01mfor\u001b[39;00m k \u001b[38;5;129;01min\u001b[39;00m \u001b[38;5;28mself\u001b[39m}\n\u001b[1;32m    868\u001b[0m \u001b[38;5;28;01mreturn\u001b[39;00m DatasetDict(\n\u001b[1;32m    869\u001b[0m     {\n\u001b[0;32m--> 870\u001b[0m         k: \u001b[43mdataset\u001b[49m\u001b[38;5;241;43m.\u001b[39;49m\u001b[43mmap\u001b[49m\u001b[43m(\u001b[49m\n\u001b[1;32m    871\u001b[0m \u001b[43m            \u001b[49m\u001b[43mfunction\u001b[49m\u001b[38;5;241;43m=\u001b[39;49m\u001b[43mfunction\u001b[49m\u001b[43m,\u001b[49m\n\u001b[1;32m    872\u001b[0m \u001b[43m            \u001b[49m\u001b[43mwith_indices\u001b[49m\u001b[38;5;241;43m=\u001b[39;49m\u001b[43mwith_indices\u001b[49m\u001b[43m,\u001b[49m\n\u001b[1;32m    873\u001b[0m \u001b[43m            \u001b[49m\u001b[43mwith_rank\u001b[49m\u001b[38;5;241;43m=\u001b[39;49m\u001b[43mwith_rank\u001b[49m\u001b[43m,\u001b[49m\n\u001b[1;32m    874\u001b[0m \u001b[43m            \u001b[49m\u001b[43minput_columns\u001b[49m\u001b[38;5;241;43m=\u001b[39;49m\u001b[43minput_columns\u001b[49m\u001b[43m,\u001b[49m\n\u001b[1;32m    875\u001b[0m \u001b[43m            \u001b[49m\u001b[43mbatched\u001b[49m\u001b[38;5;241;43m=\u001b[39;49m\u001b[43mbatched\u001b[49m\u001b[43m,\u001b[49m\n\u001b[1;32m    876\u001b[0m \u001b[43m            \u001b[49m\u001b[43mbatch_size\u001b[49m\u001b[38;5;241;43m=\u001b[39;49m\u001b[43mbatch_size\u001b[49m\u001b[43m,\u001b[49m\n\u001b[1;32m    877\u001b[0m \u001b[43m            \u001b[49m\u001b[43mdrop_last_batch\u001b[49m\u001b[38;5;241;43m=\u001b[39;49m\u001b[43mdrop_last_batch\u001b[49m\u001b[43m,\u001b[49m\n\u001b[1;32m    878\u001b[0m \u001b[43m            \u001b[49m\u001b[43mremove_columns\u001b[49m\u001b[38;5;241;43m=\u001b[39;49m\u001b[43mremove_columns\u001b[49m\u001b[43m,\u001b[49m\n\u001b[1;32m    879\u001b[0m \u001b[43m            \u001b[49m\u001b[43mkeep_in_memory\u001b[49m\u001b[38;5;241;43m=\u001b[39;49m\u001b[43mkeep_in_memory\u001b[49m\u001b[43m,\u001b[49m\n\u001b[1;32m    880\u001b[0m \u001b[43m            \u001b[49m\u001b[43mload_from_cache_file\u001b[49m\u001b[38;5;241;43m=\u001b[39;49m\u001b[43mload_from_cache_file\u001b[49m\u001b[43m,\u001b[49m\n\u001b[1;32m    881\u001b[0m \u001b[43m            \u001b[49m\u001b[43mcache_file_name\u001b[49m\u001b[38;5;241;43m=\u001b[39;49m\u001b[43mcache_file_names\u001b[49m\u001b[43m[\u001b[49m\u001b[43mk\u001b[49m\u001b[43m]\u001b[49m\u001b[43m,\u001b[49m\n\u001b[1;32m    882\u001b[0m \u001b[43m            \u001b[49m\u001b[43mwriter_batch_size\u001b[49m\u001b[38;5;241;43m=\u001b[39;49m\u001b[43mwriter_batch_size\u001b[49m\u001b[43m,\u001b[49m\n\u001b[1;32m    883\u001b[0m \u001b[43m            \u001b[49m\u001b[43mfeatures\u001b[49m\u001b[38;5;241;43m=\u001b[39;49m\u001b[43mfeatures\u001b[49m\u001b[43m,\u001b[49m\n\u001b[1;32m    884\u001b[0m \u001b[43m            \u001b[49m\u001b[43mdisable_nullable\u001b[49m\u001b[38;5;241;43m=\u001b[39;49m\u001b[43mdisable_nullable\u001b[49m\u001b[43m,\u001b[49m\n\u001b[1;32m    885\u001b[0m \u001b[43m            \u001b[49m\u001b[43mfn_kwargs\u001b[49m\u001b[38;5;241;43m=\u001b[39;49m\u001b[43mfn_kwargs\u001b[49m\u001b[43m,\u001b[49m\n\u001b[1;32m    886\u001b[0m \u001b[43m            \u001b[49m\u001b[43mnum_proc\u001b[49m\u001b[38;5;241;43m=\u001b[39;49m\u001b[43mnum_proc\u001b[49m\u001b[43m,\u001b[49m\n\u001b[1;32m    887\u001b[0m \u001b[43m            \u001b[49m\u001b[43mdesc\u001b[49m\u001b[38;5;241;43m=\u001b[39;49m\u001b[43mdesc\u001b[49m\u001b[43m,\u001b[49m\n\u001b[1;32m    888\u001b[0m \u001b[43m        \u001b[49m\u001b[43m)\u001b[49m\n\u001b[1;32m    889\u001b[0m         \u001b[38;5;28;01mfor\u001b[39;00m k, dataset \u001b[38;5;129;01min\u001b[39;00m \u001b[38;5;28mself\u001b[39m\u001b[38;5;241m.\u001b[39mitems()\n\u001b[1;32m    890\u001b[0m     }\n\u001b[1;32m    891\u001b[0m )\n",
      "File \u001b[0;32m~/dev/adnlp_notebooks/venv/lib/python3.10/site-packages/datasets/arrow_dataset.py:602\u001b[0m, in \u001b[0;36mtransmit_tasks.<locals>.wrapper\u001b[0;34m(*args, **kwargs)\u001b[0m\n\u001b[1;32m    600\u001b[0m     \u001b[38;5;28mself\u001b[39m: \u001b[38;5;124m\"\u001b[39m\u001b[38;5;124mDataset\u001b[39m\u001b[38;5;124m\"\u001b[39m \u001b[38;5;241m=\u001b[39m kwargs\u001b[38;5;241m.\u001b[39mpop(\u001b[38;5;124m\"\u001b[39m\u001b[38;5;124mself\u001b[39m\u001b[38;5;124m\"\u001b[39m)\n\u001b[1;32m    601\u001b[0m \u001b[38;5;66;03m# apply actual function\u001b[39;00m\n\u001b[0;32m--> 602\u001b[0m out: Union[\u001b[38;5;124m\"\u001b[39m\u001b[38;5;124mDataset\u001b[39m\u001b[38;5;124m\"\u001b[39m, \u001b[38;5;124m\"\u001b[39m\u001b[38;5;124mDatasetDict\u001b[39m\u001b[38;5;124m\"\u001b[39m] \u001b[38;5;241m=\u001b[39m \u001b[43mfunc\u001b[49m\u001b[43m(\u001b[49m\u001b[38;5;28;43mself\u001b[39;49m\u001b[43m,\u001b[49m\u001b[43m \u001b[49m\u001b[38;5;241;43m*\u001b[39;49m\u001b[43margs\u001b[49m\u001b[43m,\u001b[49m\u001b[43m \u001b[49m\u001b[38;5;241;43m*\u001b[39;49m\u001b[38;5;241;43m*\u001b[39;49m\u001b[43mkwargs\u001b[49m\u001b[43m)\u001b[49m\n\u001b[1;32m    603\u001b[0m datasets: List[\u001b[38;5;124m\"\u001b[39m\u001b[38;5;124mDataset\u001b[39m\u001b[38;5;124m\"\u001b[39m] \u001b[38;5;241m=\u001b[39m \u001b[38;5;28mlist\u001b[39m(out\u001b[38;5;241m.\u001b[39mvalues()) \u001b[38;5;28;01mif\u001b[39;00m \u001b[38;5;28misinstance\u001b[39m(out, \u001b[38;5;28mdict\u001b[39m) \u001b[38;5;28;01melse\u001b[39;00m [out]\n\u001b[1;32m    604\u001b[0m \u001b[38;5;28;01mfor\u001b[39;00m dataset \u001b[38;5;129;01min\u001b[39;00m datasets:\n\u001b[1;32m    605\u001b[0m     \u001b[38;5;66;03m# Remove task templates if a column mapping of the template is no longer valid\u001b[39;00m\n",
      "File \u001b[0;32m~/dev/adnlp_notebooks/venv/lib/python3.10/site-packages/datasets/arrow_dataset.py:567\u001b[0m, in \u001b[0;36mtransmit_format.<locals>.wrapper\u001b[0;34m(*args, **kwargs)\u001b[0m\n\u001b[1;32m    560\u001b[0m self_format \u001b[38;5;241m=\u001b[39m {\n\u001b[1;32m    561\u001b[0m     \u001b[38;5;124m\"\u001b[39m\u001b[38;5;124mtype\u001b[39m\u001b[38;5;124m\"\u001b[39m: \u001b[38;5;28mself\u001b[39m\u001b[38;5;241m.\u001b[39m_format_type,\n\u001b[1;32m    562\u001b[0m     \u001b[38;5;124m\"\u001b[39m\u001b[38;5;124mformat_kwargs\u001b[39m\u001b[38;5;124m\"\u001b[39m: \u001b[38;5;28mself\u001b[39m\u001b[38;5;241m.\u001b[39m_format_kwargs,\n\u001b[1;32m    563\u001b[0m     \u001b[38;5;124m\"\u001b[39m\u001b[38;5;124mcolumns\u001b[39m\u001b[38;5;124m\"\u001b[39m: \u001b[38;5;28mself\u001b[39m\u001b[38;5;241m.\u001b[39m_format_columns,\n\u001b[1;32m    564\u001b[0m     \u001b[38;5;124m\"\u001b[39m\u001b[38;5;124moutput_all_columns\u001b[39m\u001b[38;5;124m\"\u001b[39m: \u001b[38;5;28mself\u001b[39m\u001b[38;5;241m.\u001b[39m_output_all_columns,\n\u001b[1;32m    565\u001b[0m }\n\u001b[1;32m    566\u001b[0m \u001b[38;5;66;03m# apply actual function\u001b[39;00m\n\u001b[0;32m--> 567\u001b[0m out: Union[\u001b[38;5;124m\"\u001b[39m\u001b[38;5;124mDataset\u001b[39m\u001b[38;5;124m\"\u001b[39m, \u001b[38;5;124m\"\u001b[39m\u001b[38;5;124mDatasetDict\u001b[39m\u001b[38;5;124m\"\u001b[39m] \u001b[38;5;241m=\u001b[39m \u001b[43mfunc\u001b[49m\u001b[43m(\u001b[49m\u001b[38;5;28;43mself\u001b[39;49m\u001b[43m,\u001b[49m\u001b[43m \u001b[49m\u001b[38;5;241;43m*\u001b[39;49m\u001b[43margs\u001b[49m\u001b[43m,\u001b[49m\u001b[43m \u001b[49m\u001b[38;5;241;43m*\u001b[39;49m\u001b[38;5;241;43m*\u001b[39;49m\u001b[43mkwargs\u001b[49m\u001b[43m)\u001b[49m\n\u001b[1;32m    568\u001b[0m datasets: List[\u001b[38;5;124m\"\u001b[39m\u001b[38;5;124mDataset\u001b[39m\u001b[38;5;124m\"\u001b[39m] \u001b[38;5;241m=\u001b[39m \u001b[38;5;28mlist\u001b[39m(out\u001b[38;5;241m.\u001b[39mvalues()) \u001b[38;5;28;01mif\u001b[39;00m \u001b[38;5;28misinstance\u001b[39m(out, \u001b[38;5;28mdict\u001b[39m) \u001b[38;5;28;01melse\u001b[39;00m [out]\n\u001b[1;32m    569\u001b[0m \u001b[38;5;66;03m# re-apply format to the output\u001b[39;00m\n",
      "File \u001b[0;32m~/dev/adnlp_notebooks/venv/lib/python3.10/site-packages/datasets/arrow_dataset.py:3156\u001b[0m, in \u001b[0;36mDataset.map\u001b[0;34m(self, function, with_indices, with_rank, input_columns, batched, batch_size, drop_last_batch, remove_columns, keep_in_memory, load_from_cache_file, cache_file_name, writer_batch_size, features, disable_nullable, fn_kwargs, num_proc, suffix_template, new_fingerprint, desc)\u001b[0m\n\u001b[1;32m   3150\u001b[0m \u001b[38;5;28;01mif\u001b[39;00m transformed_dataset \u001b[38;5;129;01mis\u001b[39;00m \u001b[38;5;28;01mNone\u001b[39;00m:\n\u001b[1;32m   3151\u001b[0m     \u001b[38;5;28;01mwith\u001b[39;00m hf_tqdm(\n\u001b[1;32m   3152\u001b[0m         unit\u001b[38;5;241m=\u001b[39m\u001b[38;5;124m\"\u001b[39m\u001b[38;5;124m examples\u001b[39m\u001b[38;5;124m\"\u001b[39m,\n\u001b[1;32m   3153\u001b[0m         total\u001b[38;5;241m=\u001b[39mpbar_total,\n\u001b[1;32m   3154\u001b[0m         desc\u001b[38;5;241m=\u001b[39mdesc \u001b[38;5;129;01mor\u001b[39;00m \u001b[38;5;124m\"\u001b[39m\u001b[38;5;124mMap\u001b[39m\u001b[38;5;124m\"\u001b[39m,\n\u001b[1;32m   3155\u001b[0m     ) \u001b[38;5;28;01mas\u001b[39;00m pbar:\n\u001b[0;32m-> 3156\u001b[0m         \u001b[38;5;28;01mfor\u001b[39;00m rank, done, content \u001b[38;5;129;01min\u001b[39;00m Dataset\u001b[38;5;241m.\u001b[39m_map_single(\u001b[38;5;241m*\u001b[39m\u001b[38;5;241m*\u001b[39mdataset_kwargs):\n\u001b[1;32m   3157\u001b[0m             \u001b[38;5;28;01mif\u001b[39;00m done:\n\u001b[1;32m   3158\u001b[0m                 shards_done \u001b[38;5;241m+\u001b[39m\u001b[38;5;241m=\u001b[39m \u001b[38;5;241m1\u001b[39m\n",
      "File \u001b[0;32m~/dev/adnlp_notebooks/venv/lib/python3.10/site-packages/datasets/arrow_dataset.py:3517\u001b[0m, in \u001b[0;36mDataset._map_single\u001b[0;34m(shard, function, with_indices, with_rank, input_columns, batched, batch_size, drop_last_batch, remove_columns, keep_in_memory, cache_file_name, writer_batch_size, features, disable_nullable, fn_kwargs, new_fingerprint, rank, offset)\u001b[0m\n\u001b[1;32m   3515\u001b[0m _time \u001b[38;5;241m=\u001b[39m time\u001b[38;5;241m.\u001b[39mtime()\n\u001b[1;32m   3516\u001b[0m \u001b[38;5;28;01mfor\u001b[39;00m i, example \u001b[38;5;129;01min\u001b[39;00m shard_iterable:\n\u001b[0;32m-> 3517\u001b[0m     example \u001b[38;5;241m=\u001b[39m \u001b[43mapply_function_on_filtered_inputs\u001b[49m\u001b[43m(\u001b[49m\u001b[43mexample\u001b[49m\u001b[43m,\u001b[49m\u001b[43m \u001b[49m\u001b[43mi\u001b[49m\u001b[43m,\u001b[49m\u001b[43m \u001b[49m\u001b[43moffset\u001b[49m\u001b[38;5;241;43m=\u001b[39;49m\u001b[43moffset\u001b[49m\u001b[43m)\u001b[49m\n\u001b[1;32m   3518\u001b[0m     \u001b[38;5;28;01mif\u001b[39;00m update_data:\n\u001b[1;32m   3519\u001b[0m         \u001b[38;5;28;01mif\u001b[39;00m i \u001b[38;5;241m==\u001b[39m \u001b[38;5;241m0\u001b[39m:\n",
      "File \u001b[0;32m~/dev/adnlp_notebooks/venv/lib/python3.10/site-packages/datasets/arrow_dataset.py:3416\u001b[0m, in \u001b[0;36mDataset._map_single.<locals>.apply_function_on_filtered_inputs\u001b[0;34m(pa_inputs, indices, check_same_num_examples, offset)\u001b[0m\n\u001b[1;32m   3414\u001b[0m \u001b[38;5;28;01mif\u001b[39;00m with_rank:\n\u001b[1;32m   3415\u001b[0m     additional_args \u001b[38;5;241m+\u001b[39m\u001b[38;5;241m=\u001b[39m (rank,)\n\u001b[0;32m-> 3416\u001b[0m processed_inputs \u001b[38;5;241m=\u001b[39m \u001b[43mfunction\u001b[49m\u001b[43m(\u001b[49m\u001b[38;5;241;43m*\u001b[39;49m\u001b[43mfn_args\u001b[49m\u001b[43m,\u001b[49m\u001b[43m \u001b[49m\u001b[38;5;241;43m*\u001b[39;49m\u001b[43madditional_args\u001b[49m\u001b[43m,\u001b[49m\u001b[43m \u001b[49m\u001b[38;5;241;43m*\u001b[39;49m\u001b[38;5;241;43m*\u001b[39;49m\u001b[43mfn_kwargs\u001b[49m\u001b[43m)\u001b[49m\n\u001b[1;32m   3417\u001b[0m \u001b[38;5;28;01mif\u001b[39;00m \u001b[38;5;28misinstance\u001b[39m(processed_inputs, LazyDict):\n\u001b[1;32m   3418\u001b[0m     processed_inputs \u001b[38;5;241m=\u001b[39m {\n\u001b[1;32m   3419\u001b[0m         k: v \u001b[38;5;28;01mfor\u001b[39;00m k, v \u001b[38;5;129;01min\u001b[39;00m processed_inputs\u001b[38;5;241m.\u001b[39mdata\u001b[38;5;241m.\u001b[39mitems() \u001b[38;5;28;01mif\u001b[39;00m k \u001b[38;5;129;01mnot\u001b[39;00m \u001b[38;5;129;01min\u001b[39;00m processed_inputs\u001b[38;5;241m.\u001b[39mkeys_to_format\n\u001b[1;32m   3420\u001b[0m     }\n",
      "Cell \u001b[0;32mIn[7], line 2\u001b[0m, in \u001b[0;36mlowercase_condition\u001b[0;34m(example)\u001b[0m\n\u001b[1;32m      1\u001b[0m \u001b[38;5;28;01mdef\u001b[39;00m \u001b[38;5;21mlowercase_condition\u001b[39m(example):\n\u001b[0;32m----> 2\u001b[0m     \u001b[38;5;28;01mreturn\u001b[39;00m {\u001b[38;5;124m\"\u001b[39m\u001b[38;5;124mcondition\u001b[39m\u001b[38;5;124m\"\u001b[39m: \u001b[43mexample\u001b[49m\u001b[43m[\u001b[49m\u001b[38;5;124;43m\"\u001b[39;49m\u001b[38;5;124;43mcondition\u001b[39;49m\u001b[38;5;124;43m\"\u001b[39;49m\u001b[43m]\u001b[49m\u001b[38;5;241;43m.\u001b[39;49m\u001b[43mlower\u001b[49m()}\n",
      "\u001b[0;31mAttributeError\u001b[0m: 'NoneType' object has no attribute 'lower'"
     ]
    }
   ],
   "source": [
    "def lowercase_condition(example):\n",
    "    return {\"condition\": example[\"condition\"].lower()}\n",
    "\n",
    "### TODO: Apply the lowercasing function to our whole dataset.\n",
    "drug_dataset.map(lowercase_condition)"
   ]
  },
  {
   "cell_type": "markdown",
   "id": "50ec022b-4ba7-4bc3-80c9-fd0c047fec51",
   "metadata": {},
   "source": [
    "Woops something went wrong! Turns out some fields do not have an entry in the condition column.\n",
    "\n",
    "We can use the [filter](https://huggingface.co/docs/datasets/en/process#select-and-filter) function to help us with this.\n",
    "\n",
    "Let's filter the dataset and only keep entries with a valid condition."
   ]
  },
  {
   "cell_type": "code",
   "execution_count": 8,
   "id": "3a5d7170-80d3-44eb-8caa-b4438317f9ba",
   "metadata": {},
   "outputs": [],
   "source": [
    "### TODO: filter the dataset to only keep rows with an entry in the condition column\n",
    "\n",
    "drug_dataset = drug_dataset.filter(lambda x: x[\"condition\"] is not None)"
   ]
  },
  {
   "cell_type": "markdown",
   "id": "21108429-e7ed-46e9-a3a1-e1700ed2fbdf",
   "metadata": {},
   "source": [
    "After applying the filter we can check if we can now do the lowercase transformation:"
   ]
  },
  {
   "cell_type": "code",
   "execution_count": 9,
   "id": "bb49c731-c0a5-4a00-93d0-a895ddb31aa3",
   "metadata": {},
   "outputs": [
    {
     "data": {
      "text/plain": [
       "['left ventricular dysfunction', 'adhd', 'birth control']"
      ]
     },
     "execution_count": 9,
     "metadata": {},
     "output_type": "execute_result"
    }
   ],
   "source": [
    "drug_dataset = drug_dataset.map(lowercase_condition)\n",
    "# Check that lowercasing worked\n",
    "drug_dataset[\"train\"][\"condition\"][:3]"
   ]
  },
  {
   "cell_type": "markdown",
   "id": "8d7a1381-8416-4ff8-b51d-0873bbd5c824",
   "metadata": {},
   "source": [
    "Looks like everything is set.\n",
    "\n",
    "We can also do some column selection. Let's say we only need to keep a couple of fields for our processing and toss the rest for now:"
   ]
  },
  {
   "cell_type": "code",
   "execution_count": 10,
   "id": "1c771b0c-9c75-4ef9-b4e9-51aa98c005b3",
   "metadata": {},
   "outputs": [],
   "source": [
    "drug_dataset = drug_dataset.select_columns(['condition', 'review', 'patient_id'])"
   ]
  },
  {
   "cell_type": "markdown",
   "id": "7fa53885-9321-45fd-860c-c995e622457c",
   "metadata": {},
   "source": [
    "We want to know how long individual reviews are. Something we can also easily compute through mapping. \n",
    "\n",
    "We will store the length in a new column called *review_length*"
   ]
  },
  {
   "cell_type": "code",
   "execution_count": 11,
   "id": "c717ddcd-3e7d-4534-b46b-1e6326135731",
   "metadata": {},
   "outputs": [
    {
     "data": {
      "text/plain": [
       "{'condition': 'left ventricular dysfunction',\n",
       " 'review': '\"It has no side effect, I take it in combination of Bystolic 5 Mg and Fish Oil\"',\n",
       " 'patient_id': 206461,\n",
       " 'review_length': 17}"
      ]
     },
     "execution_count": 11,
     "metadata": {},
     "output_type": "execute_result"
    }
   ],
   "source": [
    "def compute_review_length(example):\n",
    "    return {\"review_length\": len(example[\"review\"].split())}\n",
    "\n",
    "drug_dataset = drug_dataset.map(compute_review_length)\n",
    "# Inspect the first training example\n",
    "drug_dataset[\"train\"][0]"
   ]
  },
  {
   "cell_type": "markdown",
   "id": "2ce7cf36-65b3-4fe7-a329-279f411430e3",
   "metadata": {},
   "source": [
    "Let's check out some of those shorter reviews:"
   ]
  },
  {
   "cell_type": "code",
   "execution_count": 12,
   "id": "9cd94e31-6595-4bb5-816f-a6c2922a6208",
   "metadata": {},
   "outputs": [
    {
     "data": {
      "text/plain": [
       "{'condition': ['hepatitis c', 'adhd', 'birth control'],\n",
       " 'review': ['\"Headache\"', '\"Great\"', '\"Awesome\"'],\n",
       " 'patient_id': [111469, 13653, 53602],\n",
       " 'review_length': [1, 1, 1]}"
      ]
     },
     "execution_count": 12,
     "metadata": {},
     "output_type": "execute_result"
    }
   ],
   "source": [
    "drug_dataset[\"train\"].sort(\"review_length\")[:3]"
   ]
  },
  {
   "cell_type": "markdown",
   "id": "8f462452-f0e2-4fd8-9169-53f933b06842",
   "metadata": {},
   "source": [
    "A lot of short reviews only seem to have one word. That might not be super useful for us. \n",
    "\n",
    "Let's apply a filter to sort reviews that are 30 words or longer and see how much we got rid of:"
   ]
  },
  {
   "cell_type": "code",
   "execution_count": 13,
   "id": "4dfebac9-7f87-4f7c-95ca-de5520714799",
   "metadata": {},
   "outputs": [
    {
     "name": "stdout",
     "output_type": "stream",
     "text": [
      "{'train': 160398, 'test': 53471}\n",
      "{'train': 138514, 'test': 46108}\n"
     ]
    }
   ],
   "source": [
    "print(drug_dataset.num_rows)\n",
    "### TODO: Filter the dataset for reviews of at least 30 words.\n",
    "drug_dataset = drug_dataset.filter(lambda x: x[\"review_length\"] > 30)\n",
    "print(drug_dataset.num_rows)"
   ]
  },
  {
   "cell_type": "markdown",
   "id": "3c90766e-0e02-46d4-8b05-42c188c6b647",
   "metadata": {},
   "source": [
    "We lost a lost a reasonable chunk, but not too many. \n",
    "\n",
    "In some cases we might benefit for doing some sanitization of our training data, depending on the task we want to solve."
   ]
  },
  {
   "cell_type": "markdown",
   "id": "587f07d9-8785-4c59-a9ac-d3d5c09529fa",
   "metadata": {},
   "source": [
    "## Datasets on Huggingface\n",
    "\n",
    "Check our the following Page: [Dataset Tagger](https://huggingface.co/spaces/huggingface/datasets-tagging)\n",
    "\n",
    "Huggingface provides a guideline for the kind of information a dataset should collect when uploading to its platform. We can also quickly check already existing datasets on there and look at their tags as well.\n",
    "\n",
    "TODO: Check the Rotten Tomatoes dataset. \n",
    "\n",
    "Can you answer the following questions: How big is the dataset? What task is it for? Does it have labels? Who labeled the dataset?\n",
    "\n",
    "When you want to upload your own data there is also this helpful guide in what you should consider documenting: [Dataset Card Creation Guide](https://github.com/huggingface/datasets/blob/main/templates/README_guide.md)"
   ]
  },
  {
   "cell_type": "markdown",
   "id": "6e259731-1d38-424f-b0f1-69c92e762dd6",
   "metadata": {},
   "source": [
    "We want to load the training set of the Rotten Tomatoes dataset directly into our notebook. Check out the [guide](https://huggingface.co/docs/datasets/en/loading) on loading from external sources as well."
   ]
  },
  {
   "cell_type": "code",
   "execution_count": 14,
   "id": "5dad2e91-5803-4d79-bfb4-123b893342aa",
   "metadata": {},
   "outputs": [
    {
     "name": "stdout",
     "output_type": "stream",
     "text": [
      "['train', 'validation', 'test']\n"
     ]
    },
    {
     "data": {
      "text/plain": [
       "Dataset({\n",
       "    features: ['text', 'label'],\n",
       "    num_rows: 8530\n",
       "})"
      ]
     },
     "execution_count": 14,
     "metadata": {},
     "output_type": "execute_result"
    }
   ],
   "source": [
    "from datasets import get_dataset_split_names\n",
    "\n",
    "print(get_dataset_split_names(\"rotten_tomatoes\"))\n",
    "## TODO: Load the train set into local memory\n",
    "rotten_tomatoes = load_dataset(\"rotten_tomatoes\", split=\"train\")\n",
    "rotten_tomatoes"
   ]
  },
  {
   "cell_type": "markdown",
   "id": "4c05af71-d734-47b8-b1b2-76f7fa35ff4d",
   "metadata": {},
   "source": [
    "Let's check what columns exist in this dataset:"
   ]
  },
  {
   "cell_type": "code",
   "execution_count": 15,
   "id": "b03c212c-63cd-46da-95b9-e5edea9c3676",
   "metadata": {},
   "outputs": [
    {
     "data": {
      "text/plain": [
       "{'text': Value(dtype='string', id=None),\n",
       " 'label': ClassLabel(names=['neg', 'pos'], id=None)}"
      ]
     },
     "execution_count": 15,
     "metadata": {},
     "output_type": "execute_result"
    }
   ],
   "source": [
    "rotten_tomatoes.features"
   ]
  },
  {
   "cell_type": "markdown",
   "id": "8b44343e-e966-4a16-9bcc-84c6f9973b57",
   "metadata": {},
   "source": [
    "We can do some specific data point selection if we wish:"
   ]
  },
  {
   "cell_type": "code",
   "execution_count": 16,
   "id": "5283db04-dad3-477d-ad91-7e39a54e039f",
   "metadata": {},
   "outputs": [
    {
     "data": {
      "text/plain": [
       "Dataset({\n",
       "    features: ['text', 'label'],\n",
       "    num_rows: 6\n",
       "})"
      ]
     },
     "execution_count": 16,
     "metadata": {},
     "output_type": "execute_result"
    }
   ],
   "source": [
    "selected_dataset = rotten_tomatoes.select([0, 10, 20, 30, 40, 50])\n",
    "selected_dataset"
   ]
  },
  {
   "cell_type": "markdown",
   "id": "ce5d54f9-bbdb-4c4a-b6ed-99e7bd0b1a08",
   "metadata": {},
   "source": [
    "We can also shard the dataset and split it into equal sized parts. Note that the method will return a specific shard if specified."
   ]
  },
  {
   "cell_type": "code",
   "execution_count": 17,
   "id": "653a577d-9403-4eb4-b664-94a1a1ac3916",
   "metadata": {},
   "outputs": [
    {
     "name": "stdout",
     "output_type": "stream",
     "text": [
      "Dataset({\n",
      "    features: ['text', 'label'],\n",
      "    num_rows: 8530\n",
      "})\n"
     ]
    },
    {
     "data": {
      "text/plain": [
       "Dataset({\n",
       "    features: ['text', 'label'],\n",
       "    num_rows: 2133\n",
       "})"
      ]
     },
     "execution_count": 17,
     "metadata": {},
     "output_type": "execute_result"
    }
   ],
   "source": [
    "print(rotten_tomatoes)\n",
    "shard_zero = rotten_tomatoes.shard(num_shards=4, index=0)\n",
    "shard_zero"
   ]
  },
  {
   "cell_type": "markdown",
   "id": "2544e72d-0dc4-4f57-b2fa-c9a1732b1275",
   "metadata": {},
   "source": [
    "A useful tool for data manipulation can be to shuffle the whole dataset for random selection:"
   ]
  },
  {
   "cell_type": "code",
   "execution_count": 18,
   "id": "12ee202a-b704-4d3b-8c56-4678b8527757",
   "metadata": {},
   "outputs": [],
   "source": [
    "shuffled_tomatoes = rotten_tomatoes.shuffle(seed=42)"
   ]
  },
  {
   "cell_type": "markdown",
   "id": "5654f046-e1f8-4438-9eff-f1f4f06be729",
   "metadata": {},
   "source": [
    "We can also do our own splits of the dataset with built-in functions.\n",
    "\n",
    "Do the split of the dataset and choose an 80/20 split for train and test. Check out the relevant [docs](https://huggingface.co/docs/datasets/en/package_reference/main_classes)"
   ]
  },
  {
   "cell_type": "code",
   "execution_count": 19,
   "id": "408e05a2-faea-4e8b-bcc1-d49dee05e2f4",
   "metadata": {},
   "outputs": [
    {
     "name": "stdout",
     "output_type": "stream",
     "text": [
      "New training set size: 6824\n",
      "Validation set size: 1706\n"
     ]
    }
   ],
   "source": [
    "rt_train_test_split = shuffled_tomatoes.train_test_split(test_size=0.2) # TODO: Split the shuffled dataset\n",
    "rt_train_dataset = rt_train_test_split['train']\n",
    "rt_validation_dataset = rt_train_test_split['test']\n",
    "\n",
    "print(f\"New training set size: {len(rt_train_dataset)}\")\n",
    "print(f\"Validation set size: {len(rt_validation_dataset)}\")"
   ]
  },
  {
   "cell_type": "markdown",
   "id": "a73e16ed-ea52-4124-926a-af0dd92ed800",
   "metadata": {},
   "source": [
    "With this we have easily split our dataset into a new train and validation split for training. \n",
    "\n",
    "Note that the split produced a DatasetDict, not a Dataset object."
   ]
  },
  {
   "cell_type": "markdown",
   "id": "798ebcad-aa7f-43e8-b4be-4edf46d1585f",
   "metadata": {},
   "source": [
    "### Visualization for our data\n",
    "\n",
    "In some cases it makes sense to generate some easy visualizations to check on our labels and other details. We can easily convert our Huggingface Dataset into a pandas Dataframe for this."
   ]
  },
  {
   "cell_type": "code",
   "execution_count": 20,
   "id": "ba24e4d5-1e36-4c88-82d6-6973f6ccd0a8",
   "metadata": {},
   "outputs": [
    {
     "data": {
      "text/plain": [
       "<Axes: title={'center': 'Distribution of Labels'}, xlabel='Label', ylabel='Count'>"
      ]
     },
     "execution_count": 20,
     "metadata": {},
     "output_type": "execute_result"
    },
    {
     "data": {
      "image/png": "[encoded data removed]",
      "text/plain": [
       "<Figure size 640x480 with 1 Axes>"
      ]
     },
     "metadata": {},
     "output_type": "display_data"
    }
   ],
   "source": [
    "import pandas as pd\n",
    "\n",
    "# Convert to pandas DataFrame\n",
    "df = pd.DataFrame(rotten_tomatoes)\n",
    "\n",
    "# Plot the distribution of labels\n",
    "label_counts = df['label'].value_counts()\n",
    "label_counts.plot(kind='bar', title='Distribution of Labels', xlabel='Label', ylabel='Count')"
   ]
  },
  {
   "cell_type": "markdown",
   "id": "a3cb8490-337a-4926-8445-13e0d82c0e76",
   "metadata": {},
   "source": [
    "Let's also check on review length distribution visually. We can do this with a histogram."
   ]
  },
  {
   "cell_type": "code",
   "execution_count": 21,
   "id": "7614e6f0-3bc8-4c4a-9554-5b64fc3cdbc3",
   "metadata": {},
   "outputs": [
    {
     "data": {
      "text/plain": [
       "<Axes: title={'center': 'Distribution of Text Lengths'}, xlabel='Length', ylabel='Frequency'>"
      ]
     },
     "execution_count": 21,
     "metadata": {},
     "output_type": "execute_result"
    },
    {
     "data": {
      "image/png": "[encoded data removed]",
      "text/plain": [
       "<Figure size 640x480 with 1 Axes>"
      ]
     },
     "metadata": {},
     "output_type": "display_data"
    }
   ],
   "source": [
    "# TODO: Calculate the length of each review and store it in the dataframe\n",
    "df['text_length'] = df['text'].apply(len)\n",
    "\n",
    "# TODO: Plot the distribution of text lengths as a histogram.\n",
    "# https://pandas.pydata.org/docs/reference/api/pandas.DataFrame.plot.hist.html\n",
    "df['text_length'].plot(kind='hist', bins=50, title='Distribution of Text Lengths', xlabel='Length', ylabel='Frequency')"
   ]
  },
  {
   "cell_type": "markdown",
   "id": "31d03e18-1b6d-43a4-8ab5-fa8512dcfb94",
   "metadata": {},
   "source": [
    "## Semantic Data Augmentation \n",
    "\n",
    "Let's say we think our Rotten Tomatoes dataset is too small for us. We can try to apply some easy augmentation strategies to generate more data for us.\n",
    "\n",
    "For this we will make use of a roberta-model and an existing transformer doing what Roberta can do very well: Masked language modeling."
   ]
  },
  {
   "cell_type": "code",
   "execution_count": 22,
   "id": "6b77269d-9cec-4a1e-b9ce-0a7aea820a24",
   "metadata": {},
   "outputs": [
    {
     "name": "stderr",
     "output_type": "stream",
     "text": [
      "2024-06-14 12:49:21.478421: I tensorflow/core/platform/cpu_feature_guard.cc:210] This TensorFlow binary is optimized to use available CPU instructions in performance-critical operations.\n",
      "To enable the following instructions: AVX2 FMA, in other operations, rebuild TensorFlow with the appropriate compiler flags.\n",
      "2024-06-14 12:49:22.441022: W tensorflow/compiler/tf2tensorrt/utils/py_utils.cc:38] TF-TRT Warning: Could not find TensorRT\n"
     ]
    }
   ],
   "source": [
    "from random import randint\n",
    "from transformers import pipeline\n",
    "\n",
    "fillmask = pipeline(\"fill-mask\", model=\"roberta-base\")\n",
    "mask_token = fillmask.tokenizer.mask_token\n",
    "# We'll only do it on a subset here to save some compute time.\n",
    "smaller_dataset = rotten_tomatoes.filter(lambda e, i: i<100, with_indices=True)"
   ]
  },
  {
   "cell_type": "markdown",
   "id": "f1ae80d8-2255-48d7-a261-c8d634e2a4c2",
   "metadata": {},
   "source": [
    "Let's check out one of the reviews in our subset:"
   ]
  },
  {
   "cell_type": "code",
   "execution_count": 23,
   "id": "e2ea6ebf-5036-4fc1-8fbc-e95472fde91e",
   "metadata": {},
   "outputs": [
    {
     "data": {
      "text/plain": [
       "{'text': 'if you sometimes like to go to the movies to have fun , wasabi is a good place to start .',\n",
       " 'label': 1}"
      ]
     },
     "execution_count": 23,
     "metadata": {},
     "output_type": "execute_result"
    }
   ],
   "source": [
    "smaller_dataset[3]"
   ]
  },
  {
   "cell_type": "markdown",
   "id": "c1536daa-8cbd-4b24-a27f-cd505898fdf7",
   "metadata": {},
   "source": [
    "To do augmentation with Roberta, we will first choose a random word in our reviews to mask and then let our pipeline do a couple of predictions for each."
   ]
  },
  {
   "cell_type": "code",
   "execution_count": 24,
   "id": "bf654c8a-4c6c-4580-9d56-4019aee32a15",
   "metadata": {},
   "outputs": [],
   "source": [
    "### TODO: Apply the Roberta model to our masked sentences and return the newly generated data.\n",
    "\n",
    "def augment_data(examples):\n",
    "    outputs = []\n",
    "    for sentence in examples[\"text\"]:\n",
    "        words = sentence.split(' ')\n",
    "        K = randint(1, len(words)-1)\n",
    "        masked_sentence = \" \".join(words[:K]  + [mask_token] + words[K+1:])\n",
    "        predictions = fillmask(masked_sentence) # apply the model\n",
    "        augmented_sequences = [predictions[i][\"sequence\"] for i in range(3)] # generate augmented data\n",
    "        outputs += [sentence] + augmented_sequences\n",
    "    return {\"data\": outputs}"
   ]
  },
  {
   "cell_type": "code",
   "execution_count": 25,
   "id": "29fc21df-0b95-4d2f-afeb-ef67669e7ed0",
   "metadata": {},
   "outputs": [
    {
     "data": {
      "application/vnd.jupyter.widget-view+json": {
       "model_id": "e20fa1abfa4d4c2ca4c255a51f5e6ee7",
       "version_major": 2,
       "version_minor": 0
      },
      "text/plain": [
       "Map:   0%|          | 0/100 [00:00<?, ? examples/s]"
      ]
     },
     "metadata": {},
     "output_type": "display_data"
    },
    {
     "data": {
      "text/plain": [
       "['if you sometimes like to go to the movies to have fun , wasabi is a good place to start .',\n",
       " 'if you sometimes like to go to the movies to have fun, wasabi is a good place to start.',\n",
       " 'if you sometimes like to go to the movies to have fun, wasabi are a good place to start.',\n",
       " 'if you sometimes like to go to the movies to have fun, wasabi seems a good place to start.',\n",
       " \"emerges as something rare , an issue movie that's so honest and keenly observed that it doesn't feel like one .\",\n",
       " \"emerges as something rare, an issue movie that's so honest and keenly observed that it can feel like one.\",\n",
       " \"emerges as something rare, an issue movie that's so honest and keenly observed that it almost feel like one.\",\n",
       " \"emerges as something rare, an issue movie that's so honest and keenly observed that it does feel like one.\",\n",
       " 'the film provides some great insight into the neurotic mindset of all comics -- even those who have reached the absolute top of the game .',\n",
       " 'the film provides some great insight into the neurotic mindset of all comics -- even those who have reached the absolute top of the game.',\n",
       " 'the film provides some great insight on the neurotic mindset of all comics -- even those who have reached the absolute top of the game.',\n",
       " 'the film provides some great insight to the neurotic mindset of all comics -- even those who have reached the absolute top of the game.']"
      ]
     },
     "execution_count": 25,
     "metadata": {},
     "output_type": "execute_result"
    }
   ],
   "source": [
    "augmented_dataset = smaller_dataset.map(augment_data, batched=True, remove_columns=rotten_tomatoes.column_names, batch_size=8)\n",
    "augmented_dataset[12:24][\"data\"]"
   ]
  },
  {
   "cell_type": "markdown",
   "id": "b4f2928f-797f-4992-81b7-4a6bdce3668d",
   "metadata": {},
   "source": [
    "We managed to generate some extra sentences. Since we only replace single words it's sometimes not easy to spot the differences and in some cases the original sentence will be recreated as well (if it is the most likely sentence after all).\n",
    "\n",
    "Q: Rotten Tomatoes What problems can you envision with this dataset and this Augmentation strategy?\n",
    "\n",
    "The Rotten Tomatoes dataset is a sentiment analysis dataset. Changing single words could in some cases actually affect the predicted polarity. Our labels will not reflect this."
   ]
  },
  {
   "cell_type": "markdown",
   "id": "c70787a5-9f1a-440f-85af-a7c62dead62a",
   "metadata": {},
   "source": [
    "## Handling large datasets"
   ]
  },
  {
   "cell_type": "markdown",
   "id": "0b02afd0-fdc8-4f17-aa04-c4f4a5b0c8be",
   "metadata": {},
   "source": [
    "Let's check out the following dataset that is available on HuggingFace: [The Pile](https://huggingface.co/datasets/EleutherAI/the_pile_deduplicated)\n",
    "\n",
    "This thing is huge. 451 GB of text data. Even if we downloaded the whole thing to our machine, we will likely run into problems."
   ]
  },
  {
   "cell_type": "markdown",
   "id": "77a905a4-be8e-47e4-854a-13dde3c200d1",
   "metadata": {},
   "source": [
    "Load the dataset in a way that is feasible for your machine. Check out the [following documentation](https://huggingface.co/docs/datasets/en/stream) on loading bigger datasets."
   ]
  },
  {
   "cell_type": "code",
   "execution_count": 26,
   "id": "9ded3606-c54a-4a2d-b75d-9ea4383cdb98",
   "metadata": {
    "collapsed": true,
    "jupyter": {
     "outputs_hidden": true
    }
   },
   "outputs": [
    {
     "data": {
      "application/vnd.jupyter.widget-view+json": {
       "model_id": "c8b68a57840448609cc0ba79d8dd9299",
       "version_major": 2,
       "version_minor": 0
      },
      "text/plain": [
       "Resolving data files:   0%|          | 0/1650 [00:00<?, ?it/s]"
      ]
     },
     "metadata": {},
     "output_type": "display_data"
    },
    {
     "data": {
      "text/plain": [
       "{'text': 'It is done, and submitted. You can play “Survival of the Tastiest” on Android, and on the web. Playing on the web works, but you have to simulate multi-touch for table moving and that can be a bit confusing.\\n\\nThere’s a lot I’d like to talk about. I’ll go through every topic, insted of making the typical what went right/wrong list.\\n\\nConcept\\n\\nWorking over the theme was probably one of the hardest tasks I had to face.\\n\\nOriginally, I had an idea of what kind of game I wanted to develop, gameplay wise – something with lots of enemies/actors, simple graphics, maybe set in space, controlled from a top-down view. I was confident I could fit any theme around it.\\n\\nIn the end, the problem with a theme like “Evolution” in a game is that evolution is unassisted. It happens through several seemingly random mutations over time, with the most apt permutation surviving. This genetic car simulator is, in my opinion, a great example of actual evolution of a species facing a challenge. But is it a game?\\n\\nIn a game, you need to control something to reach an objective. That control goes against what evolution is supposed to be like. If you allow the user to pick how to evolve something, it’s not evolution anymore – it’s the equivalent of intelligent design, the fable invented by creationists to combat the very idea of evolution. Being agnostic and a Pastafarian, that’s not something that rubbed me the right way.\\n\\nHence, my biggest dillema when deciding what to create was not with what I wanted to create, but with what I did not. I didn’t want to create an “intelligent design” simulator and wrongly call it evolution.\\n\\nThis is a problem, of course, every other contestant also had to face. And judging by the entries submitted, not many managed to work around it. I’d say the only real solution was through the use of artificial selection, somehow. So far, I haven’t seen any entry using this at its core gameplay.\\n\\nAlas, this is just a fun competition and after a while I decided not to be as strict with the game idea, and allowed myself to pick whatever I thought would work out.\\n\\nMy initial idea was to create something where humanity tried to evolve to a next level but had some kind of foe trying to stop them from doing so. I kind of had this image of human souls flying in space towards a monolith or a space baby (all based in 2001: A Space Odyssey of course) but I couldn’t think of compelling (read: serious) mechanics for that.\\n\\nBorgs were my next inspiration, as their whole hypothesis fit pretty well into the evolution theme. But how to make it work? Are you the borg, or fighting the Borg?\\n\\nThe third and final idea came to me through my girlfriend, who somehow gave me the idea of making something about the evolution of Pasta. The more I thought about it the more it sounded like it would work, so I decided to go with it.\\n\\nConversations with my inspiring co-worker Roushey (who also created the “Mechanical Underdogs” signature logo for my intros) further matured the concept, as it involved into the idea of having individual pieces of pasta flying around and trying to evolve until they became all-powerful. A secondary idea here was that the game would work to explain how the Flying Spaghetti Monster came to exist – by evolving from a normal dinner table.\\n\\nSo the idea evolved more or less into this: you are sitting a table. You have your own plate, with is your “base”. There are 5 other guests at the table, each with their own plate.\\n\\nYour plate can spawn little pieces of pasta. You do so by “ordering” them through a menu. Some pastas are better than others; some are faster, some are stronger. They have varying costs, which are debited from your credits (you start with a number of credits).\\n\\nOnce spawned, your pastas start flying around. Their instinct is to fly to other plates, in order to conquer them (the objective of the game is having your pasta conquer all the plates on the table). But they are really autonomous, so after being spawned, you have no control over your pasta (think DotA or LoL creeps).\\n\\nYour pasta doesn’t like other people’s pasta, so if they meet, they shoot sauce at each other until one dies. You get credits for other pastas your own pasta kill.\\n\\nOnce a pasta is in the vicinity of a plate, it starts conquering it for its team. It takes around 10 seconds for a plate to be conquered; less if more pasta from the same team are around. If pasta from other team are around, though, they get locked down in their attempt, unable to conquer the plate, until one of them die (think Battlefield’s standard “Conquest” mode).\\n\\nYou get points every second for every plate you own.\\n\\nOver time, the concept also evolved to use an Italian bistro as its main scenario.\\n\\nCarlos, Carlos’ Bistro’s founder and owner\\n\\nSetup\\n\\nNo major changes were made from my work setup. I used FDT and Starling creating an Adobe AIR (ActionScript) project, all tools or frameworks I already had some knowledge with.\\n\\nOne big change for me was that I livestreamed my work through a twitch.tv account. This was a new thing for me. As recommended by Roushey, I used a program called XSplit and I got to say, it is pretty amazing. It made the livestream pretty effortless and the features are awesome, even for the free version. It was great to have some of my friends watch me, and then interact with them and random people through chat. It was also good knowing that I was also recording a local version of the files, so I could make a timelapse video later.\\n\\nKnowing the video was being recorded also made me a lot more self-conscious about my computer use, as if someone was watching over my shoulder. It made me realize that sometimes I spend too much time in seemingly inane tasks (I ended up wasting the longest time just to get some text alignment the way I wanted – it’ll probably drive someone crazy if they watch it) and that I do way too many typos where writing code. I pretty much spend half of the time writing a line and the other half fixing the crazy characters in it.\\n\\nMy own stream was probably boring to watch since I was coding for the most time. But livestreaming is one of the cool things to do as a spectator too. It was great seeing other people working – I had a few tabs opened on my second monitor all the time. It’s actually a bit sad, because if I could, I could have spent the whole weekend just watching other people working! But I had to do my own work, so I’d only do it once in a while, when resting for a bit.\\n\\nDesign\\n\\nAlthough I wanted some simple, low-fi, high-contrast kind of design, I ended up going with somewhat realistic (vector) art. I think it worked very well, fitting the mood of the game, but I also went overboard.\\n\\nFor example: to know the state of a plate (who owns it, who’s conquering it and how much time they have left before conquering it, which pasta units are in the queue, etc), you have to look at the plate’s bill.\\n\\nThe problem I realized when doing some tests is that people never look at the bill! They think it’s some kind of prop, so they never actually read its details.\\n\\nPlus, if you’re zoomed out too much, you can’t actually read it, so it’s hard to know what’s going on with the game until you zoom in to the area of a specific plate.\\n\\nOne other solution that didn’t turn out to be as perfect as I thought was how to indicate who a plate base belongs to. In the game, that’s indicated by the plate’s decoration – its color denotes the team owner. But it’s something that fits so well into the design that people never realized it, until they were told about it.\\n\\nIn the end, the idea of going with a full physical metaphor is one that should be done with care. Things that are very important risk becoming background noise, unless the player knows its importance.\\n\\nOriginally, I wanted to avoid any kind of heads-up display in my game. In the end, I ended up adding it at the bottom to indicate your credits and bases owned, as well as the hideous out-of-place-and-still-not-obvious “Call Waiter” button. But in hindsight, I should have gone with a simple HUD from the start, especially one that indicated each team’s colors and general state of the game without the need for zooming in and out.\\n\\nDevelopment\\n\\nDevelopment went fast. But not fast enough.\\n\\nEven though I worked around 32+ hours for this Ludum Dare, the biggest problem I had to face in the end was overscoping. I had too much planned, and couldn’t get it all done.\\n\\nContent-wise, I had several kinds of pasta planned (Wikipedia is just amazing in that regard), split into several different groups, from small Pastina to huge Pasta al forno. But because of time constraints, I ended up scratching most of them, and ended up with 5 different types of very small pasta – barely something to start when talking about the evolution of Pasta.\\n\\nPastas used in the game. Unfortunately, the macs where never used\\n\\nWhich is one of the saddest things about the project, really. It had the framework and the features to allow an endless number of elements in there, but I just didn’t have time to draw the rest of the assets needed (something I loved to do, by the way).\\n\\nOther non-obvious features had to be dropped, too. For example, when ordering some pasta, you were supposed to select what kind of sauce you’d like with your pasta, each with different attributes. Bolognese, for example, is very strong, but inaccurate; Pesto is very accurate and has great range, but it’s weaker; and my favorite, Vodka, would triggers 10% loss of speed on the pasta hit by it.\\n\\nThe code for that is mostly in there. But in the end, I didn’t have time to implement the sauce selection interface; all pasta ended up using bolognese sauce.\\n\\nTo-do list: lots of things were not done\\n\\nActual programming also took a toll in the development time. Having been programming for a while, I like to believe I got to a point where I know how to make things right, but at the expense of forgetting how to do things wrong in a seemingly good way. What I mean is that I had to take a lot of shortcuts in my code to save time (e.g. a lot of singletons references for cross-communication rather than events or observers, all-encompassing check loops, not fast enough) that left a very sour taste in my mouth. While I know I used to do those a few years ago and survive, I almost cannot accept the state my code is in right now.\\n\\nAt the same time, I do know it was the right thing to do given the timeframe.\\n\\nOne small thing that had some impact was using a somewhat new platform for me. That’s Starling, the accelerated graphics framework I used in Flash. I had tested it before and I knew how to use it well – the API is very similar to Flash itself. However, there were some small details that had some impact during development, making me feel somewhat uneasy the whole time I was writing the game. It was, again, the right thing to do, but I should have used Starling more deeply before (which is the conundrum: I used it for Ludum Dare just so I could learn more about it).\\n\\nArgument and user experience\\n\\nOne final aspect of the game that I learned is that making the game obvious for your players goes a long way into making it fun. If you have to spend the longest time explaining things, your game is doing something wrong.\\n\\nAnd that’s exactly the problem Survival of the Tastiest ultimately faced. It’s very hard for people to understand what’s going on with the game, why, and how. I did have some introductory text at the beginning, but that was a last-minute thing. More importantly, I should have had a better interface or simplified the whole concept so it would be easier for people to understand.\\n\\nThat doesn’t mean the game itself should be simple. It just means that the experience and interface should be approachable and understandable.\\n\\nConclusion\\n\\nI’m extremely happy with what I’ve done and, especially given that this was my first Ludum Dare. However, I feel like I’ve learned a lot of what not to do.\\n\\nThe biggest problem is overscoping. Like Eric Decker said, the biggest lesson we can learn with this is probably with scoping – deciding what to do beforehand in a way you can complete it without having to rush and do something half-assed.\\n\\nI’m sure I will do more Ludum Dares in the future. But if there are any lessons I can take of it, they are to make it simple, to use frameworks and platforms you already have some absolute experience with (otherwise you’ll spend too much time trying to solve easy questions), and to scope for a game that you can complete in one day only (that way, you can actually take two days and make it cool).\\n\\nThis entry was posted\\non Monday, August 27th, 2012 at 10:54 am and is filed under LD #24.\\nYou can follow any responses to this entry through the RSS 2.0 feed.\\nYou can skip to the end and leave a response. Pinging is currently not allowed.\\n\\n3 Responses to ““Survival of the Tastiest” Post-mortem”\\n\\ndarn it , knowing that I missed your livestream makes me a sad panda ;( but more to the point, the game is … well for a startup its original to say the least ;D it has some really neat ideas and more importantly its designed arround touch screens whitch by the looks of the submission is something rare ;o or that could be just me and my short memory -_-! awesum game, love et <3'}"
      ]
     },
     "execution_count": 26,
     "metadata": {},
     "output_type": "execute_result"
    }
   ],
   "source": [
    "### TODO: Load the dataset smartly you don't crash your notebook.\n",
    "large_dataset = load_dataset(\n",
    "    \"EleutherAI/the_pile_deduplicated\",\n",
    "    split=\"train\",\n",
    "    streaming=True,\n",
    ")\n",
    "next(iter(large_dataset))"
   ]
  },
  {
   "cell_type": "markdown",
   "id": "5879d434-4598-4cd2-8858-3befedbfb67e",
   "metadata": {},
   "source": [
    "This worked out nice and we can actually work with this streamed dataset directly now.\n",
    "\n",
    "To try it out you should now shuffle the dataset and get the first 5 entries. \n",
    "\n",
    "This seems risky with a 451 GB dataset, but the library does a lot of heavy lifting for us."
   ]
  },
  {
   "cell_type": "code",
   "execution_count": 28,
   "id": "02dd8d22-df5b-406e-9dc0-9a1d13210ef0",
   "metadata": {},
   "outputs": [],
   "source": [
    "### TODO: Shuffle the dataset and grab the first 5 entries of the shuffled set into dataset_head\n",
    "shuffled_dataset = large_dataset.shuffle(seed=42, buffer_size=100_000)\n",
    "dataset_head = shuffled_dataset.take(5)"
   ]
  },
  {
   "cell_type": "code",
   "execution_count": 29,
   "id": "dd9bfb26-68d3-49f9-806d-806d7de19c68",
   "metadata": {
    "collapsed": true,
    "jupyter": {
     "outputs_hidden": true
    }
   },
   "outputs": [
    {
     "data": {
      "text/plain": [
       "[{'text': \"1. Technical Field\\nThe invention generally relates to the field of computer-assisted or computer-based speech recognition, and more specifically, to a method and system for improving recognition quality of a speech recognition system.\\n2. Description of the Related Art\\nConventional speech recognition systems (SRSs), in a very simplified view, can include a database of word pronunciations linked with word spellings. Other supplementary mechanisms can be used to exploit relevant features of a language and the context of an utterance. These mechanisms can make a transcription more robust. Such elaborate mechanisms, however, will not prevent a SRS from failing to accurately recognize a spoken word when the database of words does not contain the word, or when a speaker's pronunciation of the word does not agree with the pronunciation entry in the database. Therefore, collecting and extending vocabularies is of prime importance for the improvement of SRSs.\\nPresently, vocabularies for SRSs are based on the analysis of large corpora of written documents. For languages where the correspondence between written and spoken language is not bijective, pronunciations have to be entered manually. This is a laborious and costly procedure.\\nU.S. Pat. No. 6,064,957 discloses a mechanism for improving speech recognition through text-based linguistic post-processing. Text data generated from a SRS and a corresponding true transcript of the speech recognition text data are collected and aligned by means of a text aligner. From the differences in alignment, a plurality of correction rules are generated by means of a rule generator coupled to the text aligner. The correction rules are then applied by a rule administrator to new text data generated from the SRS. The mechanism performs only a text-to-text alignment, and thus does not take the particular pronunciation of the spoken text into account. Accordingly, it needs the aforementioned rule administrator to apply the rules to new text data. The mechanism therefore cannot be executed fully automatically.\\nU.S. Pat. No. 6,078,885 discloses a technique which provides for verbal dictionary updates by end-users of the SRS. In particular, a user can revise the phonetic transcription of words in a phonetic dictionary, or add transcriptions for words not present in the dictionary. The method determines the phonetic transcription based on the word's spelling and the recorded preferred pronunciation, and updates the dictionary accordingly. Recognition performance is improved through the use of the updated dictionary.\\nThe above discussed techniques, however, share the disadvantage of not being able to update a speech recognition vocabulary on large scale bodies of text with minimal technical effort and time. Accordingly, these techniques are not fully automated.\"},\n",
       " {'text': 'A journalist has invited any Isis terrorist to a sword duel for a £50,000 reward on his own head after seven people were killed in the attack on London Bridge.\\n\\nAndre Walker, a New York Observer columnist, posted a photo of himself on the Westminster terrace by the Thames, holding what appeared to be a sword with both hands.\\n\\n“A bounty on my head. Any #ISIS terrorist that kills me gets £50k. I\\'ll give my address. No police. But I\\'ve got a sword. Good luck,” he tweeted.\\n\\nLondon terror attack: What we know so far\\n\\nHe added: \"I\\'m not worried about looking silly, nor am I worried about #ISIS... Come on lads, have a crack.\"\\n\\nThe reaction to the tweets was mixed, with some people on social media engaging in humour while others criticised the post for its timing.\\n\\n“Not sure what point you\\'re making with this,” one person commented.\\n\\n“So let\\'s get this straight. You\\'re offering to fund terrorism?” another person asked.\\n\\nA third said: “Probably illegal to carry a sword around in the street like that. This is the dumbest thing I\\'ve seen on twitter so far this morning.”\\n\\nMr Walker said the reason for his offer was “very simple”.\\n\\n“[…] fight someone who is a fair opponent. No honour in running over children,” he responded online.\\n\\nThe social media post comes hours after seven people were killed and 48 injured in the third terrorist attack in the UK since March.\\n\\n\"As a Mancunian I was devastated about the terror attack at Manchester Arena,\" Mr Walker told The Independent. \"These cowards want to blow up little girls, and run over tourists.\\n\\n\"As a freeman of the City of London I have a sword. And my offer to any terrorist is this: why don\\'t you pick on someone your own size.\"\\n\\nLondon Bridge Terror Attack Show all 16 1 /16 London Bridge Terror Attack London Bridge Terror Attack Armed police on Borough High Street as police are dealing with a \"major incident\" at London Bridge PA London Bridge Terror Attack Armed Police talk to members of the public outside London Bridge Hospital as police are dealing with a \"major incident\" at London Bridge PA London Bridge Terror Attack Police Officers outside the Barrowboy and Banker Public House on Borough High Street as police are dealing with a \"major incident\" at London Bridge PA London Bridge Terror Attack Armed Police talk to members of the public outside London Bridge Hospital as police are dealing with a \"major incident\" at London Bridge PA London Bridge Terror Attack Armed police on Borough High Street as police deal with a \\'major incident\\' at London Bridge PA London Bridge Terror Attack Emergency services near the scene of the incident Screengrab London Bridge Terror Attack People run down Borough High Street as police are dealing with a \"major incident\" at London Bridge Reuters London Bridge Terror Attack Emergency services arrive at the scene near Borough market at London Bridge Carl Court/Getty Images London Bridge Terror Attack Emergency personnel on London Bridge as police are dealing with a \"major incident\" at London Bridge PA London Bridge Terror Attack Police sniffer dogs on London Bridge as police are dealing with a \"major incident\" at London Bridge PA London Bridge Terror Attack A second helicopter lands on London Bridge as police are responding to three incidents in the capital, amid reports that a vehicle collided with pedestrians on London Bridge, Scotland Yard said. Officers are dealing with reports of stabbings in Borough Market, where armed officers attended and shots were fired. They are also at an incident in the Vauxhall area PA London Bridge Terror Attack Police attend to an incident on London Bridge in London REUTERS London Bridge Terror Attack Police attend to an incident on London Bridge in London, Britain Reuters London Bridge Terror Attack A police officer escorts members of the public to safety at London Bridge Getty Images London Bridge Terror Attack Police attend to an incident on London Bridge in London, Britain Reuters London Bridge Terror Attack Police attend to an incident near London Bridge in London, Britain Reuters\\n\\nThree male suspects were shot and killed within eight minutes of the first call to emergency services just after 10pm on Saturday evening.\\n\\nThe men had rented a white van and ploughed into bystanders on London Bridge, before exiting the vehicle and randomly stabbing people in pubs and bars near Borough Market.\\n\\nMany people were rushed to hospital and remain in critical condition.\\n\\nOn social media, members of the public and politicians vowed not to be divided by terrorism.\\n\\nMain political parties said they would suspend their campaigns.\\n\\nThe Manchester Arena concert, in honour of the 22 victims who were killed in an explosion last month, will go ahead on Sunday.\\n\\nPeople responded negatively to a CNN report that the streets around London Bridge remained “eerily quiet”, and a New York Times headline which claimed the city was still “reeling” after the attack in Manchester.'},\n",
       " {'text': 'Revised. Amendments from Version 1\\n==================================\\n\\nin this version of the manuscript, the discussion section was revised with more focus on hematomas in other GI sites. also, radiologic manifestation and therapeutic strategies were included.\\n\\nIntroduction\\n============\\n\\nAbdominal pain is a common complaint in patients referred to hospital emergency departments and varies from mild and self-limiting to severe and life-threatening conditions ^[@ref-1],\\\\ [@ref-2]^. Depending on the location of the pain, symptoms, physical examination and medical history, a differential diagnosis is provided ^[@ref-1]^. Since mortality and the rate of surgery secondary to abdominal pain is higher in elderly patients, prompt diagnosis of the causative agent is of particular importance ^[@ref-3]^. Non-specific causes, gastroenteritis, irritable bowel syndrome, urologic disorders, and gastroenteritis are among the common etiologies for abdominal pain ^[@ref-4]^. An uncommon reason for abdominal pain and bowel obstruction is intestinal intramural hematoma following anticoagulation therapy ^[@ref-5],\\\\ [@ref-6]^. Warfarin, a vitamin K antagonist, is widely used to prevent thrombosis formation due to mechanical heart valves, atrial fibrillation, pulmonary embolism and deep venous thrombosis ^[@ref-7]^. The occurrence of intestinal intramural hematoma secondary to anticoagulant therapy is an uncommon condition, which affects 1/2500 patients receiving Warfarin ^[@ref-8]^. The small intestine is the common site affected by spontaneous intramural hematoma, and intramural hematoma of the colon and rectum are rare ^[@ref-9]^. This complication is mostly treated by non-surgical approaches.\\n\\nThis article reports a case of a relatively large ileal intramural hematoma developed following Warfarin use and accidental detection of breast malignancy during a CT scan.\\n\\nCase presentation\\n=================\\n\\nAn 81-year-old woman was admitted to the Mazandaran Heart Center, Sari, Iran in February, 2018 with a 4-day history of nausea, vomiting, and abdominal pain. She had been taking Warfarin (5 mg orally once a day) and aspirin (80 mg/day) for 8 years after aortic valve replacement without close monitoring and had a history of hematochezia caused by Warfarin toxicity one year ago. Colicky pain, an increase in bowel sounds and periumbilical tenderness without distension was determined by physical examination. The primary laboratory findings revealed anemia (Hb: 9.8 g/dl; normal value: 11.5--13.5 g/dl) and elevated INR (6; therapeutic range: 2--3.5), liver function and biochemistry tests were within normal values. Normal left ventricular systolic function, LVEF of 55--60%, septal hypertrophy, normal functioning prosthetic valve, and dilatation of the ascending aorta were reported by echocardiography.\\n\\nDuring an abdominal and pelvic ultrasound, long mucosal thickening possibly through the ascending and sigmoid colon was observed, suggestive of intramural hematoma. The patient was placed on *nil per os*, received supportive care and two units of fresh frozen plasma. Due to normal cardiac evaluation and partial relief of symptoms on the second day of admission, the patient was referred to surgical consultation with the possible diagnosis of descending colon and sigmoid intramural hematoma. For re-administration of anticoagulants, heparin infusion (1000 units/hour) began with precise monitoring of prothrombin time.\\n\\nOn the fourth day, CT scan was performed with intravenous and oral contrast ( [Figure 1](#f1){ref-type=\"fig\"}) and intramural hematoma of ileum was diagnosed. During the CT, a radiologist noticed a mass on the left breast and a lymph node with a malignant feature on the left axilla. With the improvement of abdominal pain and vomiting (on the fourth day), oral feeding was resumed. After mammography and breast biopsy, pathological examination revealed invasive ductal cell carcinoma with lymphatic and perineural invasion. According to the immunohistochemistry staining, tumor cells were strongly ER positive, PR negative, 15% Ki67 positive and equivocal for HER2. The patient was referred to the oncology-hematology department to receive appropriate treatment.\\n\\n![Contrast-enhanced abdominal and pelvic CT.\\\\\\n(A) Circumferential thickening of an ileal loop with adjacent fat stranding in Sagittal (1) and Coronal (2) view. (B) LAP on left axilla with malignant feature measuring 18×16mm (3) and 32×26 mm mass in left breast (4).](f1000research-7-23800-g0000){#f1}\\n\\nThe patient was discharged 10 days after admission and Warfarin therapy (5 mg/d) was resumed. The patient was visited 2 weeks later with good general health assessment. Letrozole (2.5 mg/day) was started because the patient refused chemotherapy and radiotherapy.\\n\\nDiscussion\\n==========\\n\\nThe most significant reason for the intestinal intramural hematoma is trauma, while non-traumatic or spontaneous causes include anticoagulation therapy, malignancies, and blood disorders, which are considered to be rare ^[@ref-10],\\\\ [@ref-11]^. The intestinal sites involved in the intramural hematoma in order of frequency include jejunum, duodenum, and ileum ^[@ref-12]^. The intramural hematoma can affect the esophagus, gastric and colon, but these cases are less prevalent. This complication is mostly associated with Warfarin and is more common in male subjects ^[@ref-10],\\\\ [@ref-13],\\\\ [@ref-14]^; patient\\\\\\'s chief complaints are abdominal pain, nausea, vomiting, and absence of bowel movements or flatulence ^[@ref-6],\\\\ [@ref-15]^. Melena and jaundice are rare presentation too ^[@ref-16]^. Hyperechoic bowel wall thickening or free fluid may be noted in ultrasound findings, nevertheless, as a non-unspecific test, normal ultrasound results cannot rule out the possible diagnosis of gastrointestinal intramural hematoma. The diagnostic key test is a CT scan, but there is no agreement in the literature concerning the use of contrast materials, as it may obscure intramural hyper-density and hemorrhage, and also increase the risk of exposure ^[@ref-17],\\\\ [@ref-18]^. Bowel wall thickening, luminal narrowing, obstruction caused by edema, picket fence sign can be demonstrated in CT-scan ^[@ref-19],\\\\ [@ref-20]^. Products related to hemoglobin breakdown in hematoma site will lead to a high density signal as \"ring sign\" in MRI which is unique to confirm diagnosis ^[@ref-21]^. In the review of fourteen patients by Yoldaş *et al*, nine patients were treated non-surgically, with eight of them were on Warfarin therapy for heart disorders. Increased INR was also observed in anticoagulant receiving patients ^[@ref-10]^. In addition to impaired coagulation tests, increased WBC count and anemia may also present ^[@ref-15],\\\\ [@ref-19]^. For early diagnosis of this complication, taking a detailed medical history of anticoagulation use, especially in older patients with abdominal pain, is required. Treatment usually is conservative and includes cessation of oral anticoagulation, serum therapy, and correction of coagulation indices by vitamin K and blood products ^[@ref-8],\\\\ [@ref-19],\\\\ [@ref-22]^. As this condition is rare, there is no treatment as the best option in the literature but unlike the past, there is a tendency for conservative management of cases today. The patient\\\\\\'s condition is the most important consideration in choosing the treatment. Referral to surgery is usually preferred when the patient has peritonitis, obstruction, ischemia or necrosis ^[@ref-16]^. Accurate recognition of this complication leads to prevention of unnecessary surgical procedures and the risk of bleeding progression. There are also evidence that Warfarin may act as an anticancer agent; Warfarin was shown to lower the incidence of organ specific cancers including lung, prostate, and breast ^[@ref-23],\\\\ [@ref-24]^. Therefore, the development of invasive breast cancer in the present case, despite the long-term use of Warfarin, is interesting.\\n\\nFinally, the question arises of which anticoagulant can be used as an alternative to Warfarin in patients with frequent life threatening hemorrhagic events, which requires no regular monitoring but has an acceptable efficacy.\\n\\nConsent\\n=======\\n\\nWritten informed consent was obtained from patient during admission and follow up for the publication of the patient\\'s clinical information and accompanying images.\\n\\nData availability\\n=================\\n\\nAll data underlying the results are available as part of the article and no additional source data are required.\\n\\n10.5256/f1000research.23800.r58052\\n\\nReviewer response for version 2\\n\\nCazzo\\n\\nEverton\\n\\n1\\n\\nReferee\\n\\nhttps://orcid.org/0000-0002-5804-1580\\n\\nDepartment of Surgery, Faculdade de Ciências Médicas da Universidade Estadual de Campinas (FCM/UNICAMP), Campinas, Brazil\\n\\n**Competing interests:**No competing interests were disclosed.\\n\\n2\\n\\n3\\n\\n2020\\n\\nCopyright: © 2020 Cazzo E\\n\\n2020\\n\\nThis is an open access peer review report distributed under the terms of the Creative Commons Attribution Licence, which permits unrestricted use, distribution, and reproduction in any medium, provided the original work is properly cited.\\n\\nVersion 2\\n\\nAll the comments and suggestions were appropriately addressed.\\n\\nI confirm that I have read this submission and believe that I have an appropriate level of expertise to confirm that it is of an acceptable scientific standard.\\n\\n10.5256/f1000research.16162.r55318\\n\\nReviewer response for version 1\\n\\nCazzo\\n\\nEverton\\n\\n1\\n\\nReferee\\n\\nhttps://orcid.org/0000-0002-5804-1580\\n\\nDepartment of Surgery, Faculdade de Ciências Médicas da Universidade Estadual de Campinas (FCM/UNICAMP), Campinas, Brazil\\n\\n**Competing interests:**No competing interests were disclosed.\\n\\n21\\n\\n10\\n\\n2019\\n\\nCopyright: © 2019 Cazzo E\\n\\n2019\\n\\nThis is an open access peer review report distributed under the terms of the Creative Commons Attribution Licence, which permits unrestricted use, distribution, and reproduction in any medium, provided the original work is properly cited.\\n\\nVersion 1\\n\\nThis is an interesting and well-written case report of a disease which poses a significant difficulty in relation to its diagnosis and management.\\n\\nThe main comments which I think may improve and enrich this study are the following: The discussion should include a more profound comment on the therapeutic options available for the cases when the bleeding does not stop after interrupting Warfarin, mainly radiological and surgical\\xa0interventions.The discussion should also include some comments on hematomas which arise on other segments of the gastrointestinal tract, such as stomach and duodenum, since they are close to the topic reported.\\n\\nI confirm that I have read this submission and believe that I have an appropriate level of expertise to confirm that it is of an acceptable scientific standard, however I have significant reservations, as outlined above.\\n\\nAlizadeh Forutan\\n\\nMaryam\\n\\nMedical Sciences University of Mazandaran, Iran\\n\\n**Competing interests:**No competing interests were disclosed.\\n\\n5\\n\\n11\\n\\n2019\\n\\nHello and thanks for your attention.\\n\\nI will definitely consider and correct the things you have mentioned.\\n\\nAlizadeh Forutan\\n\\nMaryam\\n\\nMedical Sciences University of Mazandaran, Iran\\n\\n**Competing interests:**No competing interests were disclosed.\\n\\n10\\n\\n12\\n\\n2019\\n\\nDear reviewer,\\n\\nMany thanks for your attention and points.\\n\\nWe have revised the manuscript according to your suggestions and highlighted them.\\n\\n10.5256/f1000research.16162.r35009\\n\\nReviewer response for version 1\\n\\nOlden\\n\\nKevin W.\\n\\n1\\n\\nReferee\\n\\nDivision of Gastroenterology, Regional One Medical Center, University of Tennessee, School of Medicine, Memphis, TN, USA\\n\\n**Competing interests:**No competing interests were disclosed.\\n\\n12\\n\\n9\\n\\n2019\\n\\nCopyright: © 2019 Olden KW\\n\\n2019\\n\\nThis is an open access peer review report distributed under the terms of the Creative Commons Attribution Licence, which permits unrestricted use, distribution, and reproduction in any medium, provided the original work is properly cited.\\n\\nVersion 1\\n\\nThe case is well presented, and the clinical details are well written and meticulously enumerated.\\xa0The case is relevant for practice and will benefit clinicians.\\xa0The only comment I would have is to change the word \\\\\"ileum\\\\\" on p.2 (2nd paragraph) to \\\\\"ileal\\\\\" and the word \\\\\"rectorrhagia\\\\\" to \\\\\"hematochezia\\\\\" in order to conform to the more commonly used medical terminology.This paper is an excellent case report that presents useful information for the clinician.\\xa0I would recommend acceptance if the two semantic changes were made.\\n\\nI confirm that I have read this submission and believe that I have an appropriate level of expertise to confirm that it is of an acceptable scientific standard.\\n\\nAlizadeh Forutan\\n\\nMaryam\\n\\nMedical Sciences University of Mazandaran, Iran\\n\\n**Competing interests:**There isn\\\\\\'t any competing interest.\\n\\n14\\n\\n9\\n\\n2019\\n\\nGreetings and regards.\\n\\nThanks for bothering to read this case report and for taking the time to review the article.\\n\\nI will consider the issues raised.\\n\\n[^1]: No competing interests were disclosed.\\n'},\n",
       " {'text': 'Tom Tubiolo; Coloring imagination with horror.\\n\\nTom with his fiancé Sarah Sutton and their son. Niagara Falls. [Photos provided by Che Holloway]\\n\\nChe from Rochester works for Che Holloway\\n\\nYou’ve met several Che Holloway several times. An aspiring and successful actor, Che is deeply immersed in the Rochester cultural scene. So much so, we’ve named him Che of The Town!\\n\\nExclusively for Talker, Che has solicited and is conducting interviews from about 50 Rochestarians working in a diversity of creative fields.\\n\\nSo far, he interviewed Britton Bradford, a professional basketball player, visual artist and occasional actor and model who graduated from the School of the Arts and Josh Pies, a local cinematographer and Executive Producer, Creative Director and Head Writer at C47 Film Associates.\\n\\nTom Tubiolo; Coloring imagination with horror.\\n\\nWho doesn’t love a good horror film? Am I right? This highlight focuses on a local artist by the name of Tom Tubiolo. Tom Tubiolo is our local Picasso, but his images aren’t what you think, Tom Tubiolo’s work has strong dark undertones and are eerily beautiful to get lost in. When I look over Tom Tubiolo’s work, one classic Horror Film director comes to mind, and that’s David Lynch, They both seem to possess the ability to draw you in to a beautiful tortured place that’s easy to relate to or easy to imagine yourself in.\\n\\nI recently interviewed Mr. Tubiolo. Here is what we discussed.\\n\\nQ. Tell us a little about yourself, where you’re from, grew up, what H.S./College you attended etc.\\n\\nI attended Eastridge Highschool. When all the kids were wearing American Eagle and Aeropostale and listening to Dave Matthews Band, 50 cent, Eminem and OAR, I was listening to Nine Inch Nails, Nirvana, Soundgarden, Guns N Roses and wearing Jnco jeans and Adidas trefoil shirts… yeah I was THAT kid.. for a while at least.\\n\\nI cleaned up for a minute and kinda fell into the same suit as the aforementioned kids I set myself apart from (except for the music, I can’t find a place in my heart for that shit)… but that whole phase didn’t last very long. I suppose it served its purpose, but long story short, I always felt more comfortable being the long haired, flanneled, combat boot, ripped jeans, mumbling streetnick you see today… call it grunge if you wanna give it a name, but I was always taught labels were for jars 😉\\n\\nQ. What inspired you to be an artist? Early experiences worth sharing?\\n\\nI grew up in Rochester NY, as a little kid I would spend weekends setting up with my parents at flea markets. Back before the days of eBay, popularity of retro-romanticism and the convenience of the internet; flea markets were chockfull of anything and everything you could think of. I would say it was here that I fell in love with art, rock and roll and the marriage of the two.\\n\\nI found a handful of cassettes from bands such as Circle Jerks, Black Flag, Twisted Sister and Fear. I would listen to them constantly on a “grandpa time” cassette player I had (just google it…) and I absolutely fell in love with the rawness. I would also see old paintings/statues/photographs/toys/advertisements that once “served a purpose” to their owner, but somehow their meaning became hazed over time a la “Velveteen Rabbit”. I would stare at these things and try to empathize, but sometimes I couldn’t understand the appeal in some items. It was then I realized art wasn’t something that necessarily needs to be aesthetically appealing. Art is about provoking emotion, be it happiness, sadness, disgust, fear, etc. I became obsessed with figuring out ways to tap into all of those emotions in unison.\\n\\nThough I have always drawn pictures since I can remember, as a pre-teen it was rock and roll music that I found to be my first artistic muse. I learned guitar (kinda), learned to write songs (kinda) and played a couple shows with a couple friends (again…kinda). We sounded how nirvana would sound on a broken cassette player…. underwater… after being spit on. It’s cool though, because as previously stated art doesn’t have to be “good” to be good. I still write and play guitar often (I’m a little better now, or so I would like to believe), but I’ve found that applying my artistic energy has always been through a more anonymous medium… painting and drawing, where as music has kinda been my means of turning my mind and the world around me off. My son’s love for drawing and rock and roll has also been a huge motivator for me to continue to pursue it, and learn so I am able to show him what an incredible tool art can be in regard to self expression both actively and passively.\\n\\nQ. Talk about a time where you have faced adversity/conflict and have triumphed.\\n\\nI face it often. I hear a lot of times that my art is too “dark”, or glamorizing violence or evil. The conflict resolves itself in that I have successfully harnessed that emotion. For some artists, especially those influenced by the macabre, all art provoked emotions tend to blend together at some point and it blurs the lines between beautiful and grotesque. A really graphic scene in a horror movie for example may make the viewer angry or sick, where as I view it from a perspective of “it must have taken this make up artist hours and hours to be able to execute this look or this director must have gone to the absolute darkest corners of his or her mind to create a sequence that moves its viewer in this way”… therefore, in my mind it was beautiful. We don’t watch Texas Chainsaw Massacre when we are in the mood for a light hearted comedy just as we don’t watch Brokeback Mountain for a laugh. We crave the emotions that art provokes, be it happy, sad, disturbing, terror and sometimes we just don’t realize it. I’m not sure if that answers the question, but short answer: any conflict I have faced from a critical standpoint resolves itself the moment the conflict arises by my theory on art as a whole…it should provoke thought and emotion.\\n\\nQ. What do you believe sets your work apart from other artists?\\n\\nAs far as the finished product, every piece is apples to oranges. I don’t think there is a such thing as “bad” art.. if it has integrity and meaning, it’s as good as good art can be… it took me years to back track things that I wasn’t into as a young kid to find the appreciation for them such as the previously mentioned Dave Matthews Band, Eminem, etc.. but I get it now, still not my cup of tea, but I get it.\\nI sometimes see from a critical perspective that my lines and edges are a bit shaky and not as clean as some of my fellow artists, or my shadows or highlights aren’t as defined as I have seen captured in other people’s work… but I think that’s what makes an artist better at their execution, realizing they are on a constant track of being better and never thinking “welp, this is good enough, I think I’ll set up camp here”. Art is a life long process, and our swan song should never be planned.\\n\\nQ. Do you have other interests or hobbies?\\n\\nMy free time is spent with family. I don’t really go out much anymore to bars or clubs as I have found the best company I will find is under my own roof. I have a full time job during the week working with people with developmental disabilities and a part time job working for bands that play shows at the Blue Cross Arena in Rochester and CMAC in Canandaigua. Notably I have worked directly for artists ranging from Luke Bryan to Ringo Starr. Driving them from airports, hotels to the venue, picking up any odds and ends they need for the evening. As a music junkie, this is the best job I have ever had.\\n\\nQ. Any projects you have out or currently working on?\\n\\nI am constantly finding influence from old films and old tv shows. Silent films, Hammer Horror films of the ’60s and ’70s, Rod Serling’s work on Twilight Zone, Roman Polanski, Jan Svankmajer, early blues and jazz to Classical/Baroque music. So I am constantly learning and retouching, putting different spins on old pieces. No piece is ever finished, nothing is ever perfect, and I wouldn’t want it any other way.\\n\\nQ. Where would you like to see yourself in 5 years?\\n\\nLet’s see, that would make me 36 and my son on the brink of his teens. I like to think I am on the right track and that I am doing the right things conducive to raising him to be a respectful, creative, hardworking little dude. The past 5 years have been an absolute rollercoaster personally, so I am looking forward to some calmer waters. Married, house, painting, dogs, camping on the weekends. Maybe I will see calmer waters in the next 10, haha.\\n\\nQ. What advice can you give to aspiring artists/entertainers?\\n\\nTo quote my all time favorite band, Pearl Jam, I would say the best advice I could give is: “no matter how cold the winter, there’s a springtime ahead” keep pushing, keep learning… never EVER stop learning. Never let your ego get the best of you, never let the allure of money or fame plague your potential. Stay true to what drives you. Pretty paintings are a dime a dozen, art that provokes emotion are as common as a unicorn on a Harley.\\n\\nTalker of the Town is a continuation of conversations begun in three Democratic Chronicle blogs: Make City Schools Better, Unite Rochester and the Editorial Board.\\nSince February 2013, urban education has been the primary focus. Now, the flowering of topics is limited only by our imaginations.\\n\\nTalker of the Town might better be Talkers of the Town. The blog won’t thrive without your leads, text, pictures, ideas, facebook shares, tweets, comments and criticisms.'},\n",
       " {'text': 'Tag: speak\\n\\nThe Wholesome Lifestyles program seeks to handle weight-associated health issues for kids by providing caring suppliers, household-centered remedy packages, highly trained educators and researchers, and powerful group partnerships. Sustaining five wholesome habits – eating a healthy diet, exercising commonly, preserving a wholesome physique weight, not drinking an excessive amount of alcohol, and not smoking – during maturity might add more than a decade to life expectancy, in accordance with a new research led by Harvard T.H. Chan School of Public Health. Shaped like a pear? Fat across the hips, butt, and thighs is usually estrogen dependent, that means that it doesn’t go away by way of exercise and wholesome nutrition. Torso fat, alternatively, is associated with poor well being.\\n\\nThese easy lifestyle tweaks can assist maintain you and your child as healthy as possible. Select a method of physical activity that you simply take pleasure inâ€”one that won’t really feel like a chore. You might want to select a number of actions so you’ve selection. Zumba is an brisk and enjoyable-crammed workout! Latin infused rhythms and dance moves combine with hip-hop, salsa, and mambo to convey you an thrilling evening of train that’s pretty much as good for your temper as it’s to your body! All talents and fitness levels are welcome to affix us on this FREE Zumba program.\\n\\nUnderstand that any way of life change is a work in progressâ€\\x9d and that lasting modifications take time. Set small goals which are straightforward to accomplish. Positive psychology exhibits that the more instances folks meet their targetsâ€”even small targets!â€”the more seemingly they’ll build confidence which enables them to accomplish more (and greater) goals in the future.\\n\\nLet your youngsters know they are not guilty for your sickness. Explain this to them while preserving their developmental stage in thoughts. For young …\\n\\nThe muse for healthy life. Keep a healthy weight and body shape. On the similar time that the power of complete way of life changes is becoming more properly-documented, the restrictions of excessive-tech medication are becoming clearer. A good exercise aim to work towards is 30 minutes per day, 3 occasions per week. Wholesome Dwelling Step No. 5: Manage stress. Life is gorgeous and you don’t wish to bathroom yourself down with unnecessary well being issues. At the moment, your very important organs could also be working properly, but they is probably not tomorrow. Do not take your health for granted. Take correct care of your physique.\\n\\nBetween 1940 and 2014, Americans’ life expectancy at start rose from round sixty three years to just about seventy nine years. Nonetheless, researchers consider the development of life expectancy could be even bigger without the widespread prevalence of weight problemsâ€”a recognized risk factor for heart disease, stroke and premature loss of life.\\n\\nDiscover ways to acknowledge causes of stress, corresponding to troublesome individuals, financial matters, noise, lack of time, or excessive strain conditions. Overview your daily activities periodically seeking triggers you may not be aware of look for patterns in your symptoms and stress ranges. Chances are you’ll wish to discuss your stressors together with your physician or therapist.\\n\\nEducate your companion in your illness. Remind your partner that your mood dysfunction is not caused by her or him, but by an imbalance of chemical substances in your mind. Give your partner some concrete ways he or she can assist you: by understanding when you do not really feel like going out; by serving to ease the burdens of housekeeping or child care; or by giving you a hug at the end of a long day. When you end up feeling irritable, emphasize …\\n\\nThe Rapides Foundation in late 2011 shaped the Wholesome Life-style Program to offer nutrition and bodily diet counseling to Central Louisiana residents. Experiment.Â The best way to know what works for you is to experiment. Reasonably than subscribe your self to at least one food regimen, strive completely different foods and see how your physique responds. Most significantly ‘” analysis and tweak your weight loss plan primarily based on what you study. I get pleasure from reading well being journals as I can learn the information instantly from the supply vs. news articles or editorials which often serve an agenda.\\n\\nThe general public can’t attain a hundred years outdated due to ingesting alcohol and smoking cigarettes. If I’ll attain that one I am probably the most happiest person on the earth. Base in what I read here is very important to maintain our well being. And in addition do proper train and eat only healthy meals that wealthy in vitamins and minerals.\\n\\nThe contents displayed within this public group(s), resembling textual content, graphics, and other material (“Content”) are intended for educational purposes solely. The Content material shouldn’t be supposed to substitute for skilled medical recommendation, analysis, or therapy. At all times search the advice of your healthcare provider with any questions you will have regarding your medical situation. Never disregard professional medical advice or delay in seeking it because of one thing you might have read in a public group(s).'}]"
      ]
     },
     "execution_count": 29,
     "metadata": {},
     "output_type": "execute_result"
    }
   ],
   "source": [
    "list(dataset_head)"
   ]
  },
  {
   "cell_type": "markdown",
   "id": "ff64b2a7-7d58-42a1-9283-ba47607ad9c0",
   "metadata": {},
   "source": [
    "Q: Why did the list command take significantly longer than the ones before? \n",
    "\n",
    "Lazy evaluation in Python."
   ]
  },
  {
   "cell_type": "code",
   "execution_count": 30,
   "id": "fd4c46f2-bd1d-4184-a031-94248fbac5d2",
   "metadata": {},
   "outputs": [],
   "source": [
    "# similarly it is quite fast to just declare these\n",
    "train_dataset = shuffled_dataset.skip(1000)\n",
    "validation_dataset = shuffled_dataset.take(1000)"
   ]
  },
  {
   "cell_type": "markdown",
   "id": "30542d0a-262e-4c87-af7d-b7382dbad39a",
   "metadata": {},
   "source": [
    "## Preprocessing and Tokenization\n",
    "\n",
    "Let's look at what needs to happen with our dataset before we actually pipe it into a ML model. \n",
    "\n",
    "For text data we often want to do some easy but important preprocessing steps converting strings of text into appropriate formats before training.\n",
    "\n",
    "Let's check out how we could do this:"
   ]
  },
  {
   "cell_type": "code",
   "execution_count": 31,
   "id": "9ec8d338-01e4-443b-9872-4665d6fdfe78",
   "metadata": {},
   "outputs": [],
   "source": [
    "input_string = \"Using a Transformer network is simple.\""
   ]
  },
  {
   "cell_type": "markdown",
   "id": "91041e3a-8c09-4451-ae5f-03d87f4c3278",
   "metadata": {},
   "source": [
    "You've probably done easy string manipulation quite a bit before. \n",
    "\n",
    "Try an easy stock method to do tokenization in Python, so we can compare later."
   ]
  },
  {
   "cell_type": "code",
   "execution_count": 32,
   "id": "29c9fef5-3fcd-4a85-afae-e8e2b0a568d3",
   "metadata": {},
   "outputs": [
    {
     "name": "stdout",
     "output_type": "stream",
     "text": [
      "['Using', 'a', 'Transformer', 'network', 'is', 'simple.']\n"
     ]
    }
   ],
   "source": [
    "tokenized_text = input_string.split()\n",
    "print(tokenized_text)"
   ]
  },
  {
   "cell_type": "markdown",
   "id": "48995d9f-5583-4c10-8efc-f98a696ab283",
   "metadata": {},
   "source": [
    "Let's compare to one of the pretrained tokenizers. In this case we will go with a BERT tokenizer first."
   ]
  },
  {
   "cell_type": "code",
   "execution_count": 33,
   "id": "08df602a-2324-4950-a11b-74ab508b11fe",
   "metadata": {},
   "outputs": [],
   "source": [
    "from transformers import AutoTokenizer\n",
    "\n",
    "tokenizer = AutoTokenizer.from_pretrained(\"bert-base-cased\")"
   ]
  },
  {
   "cell_type": "code",
   "execution_count": 34,
   "id": "fba8102a-5cf5-439e-8a3c-e867744df785",
   "metadata": {},
   "outputs": [
    {
     "data": {
      "text/plain": [
       "['Using', 'a', 'Trans', '##former', 'network', 'is', 'simple', '.']"
      ]
     },
     "execution_count": 34,
     "metadata": {},
     "output_type": "execute_result"
    }
   ],
   "source": [
    "tokens = tokenizer.tokenize(input_string)\n",
    "tokens"
   ]
  },
  {
   "cell_type": "markdown",
   "id": "9a2a8f2f-79d5-4763-a462-fef570a263ac",
   "metadata": {},
   "source": [
    "What differences can you see here? \n",
    "\n",
    "What influence is this likely to have during further processing?\n",
    "\n",
    "We can also do more with our tokenizer, for instance encode our string into ID's."
   ]
  },
  {
   "cell_type": "code",
   "execution_count": 35,
   "id": "d3ed220d-04de-41c9-a55f-2bd3714f9ec8",
   "metadata": {},
   "outputs": [
    {
     "data": {
      "text/plain": [
       "[7993, 170, 13809, 23763, 2443, 1110, 3014, 119]"
      ]
     },
     "execution_count": 35,
     "metadata": {},
     "output_type": "execute_result"
    }
   ],
   "source": [
    "ids = tokenizer.convert_tokens_to_ids(tokens)\n",
    "ids"
   ]
  },
  {
   "cell_type": "markdown",
   "id": "c186d9d6-8c8e-4ea9-abcf-db977f7b8a10",
   "metadata": {},
   "source": [
    "Vice versa, decoding is also possible in an analogous way:"
   ]
  },
  {
   "cell_type": "code",
   "execution_count": 36,
   "id": "e26e8021-27d6-4633-ba71-72c40dc1af3a",
   "metadata": {},
   "outputs": [
    {
     "data": {
      "text/plain": [
       "'Using a transformer network is simple.'"
      ]
     },
     "execution_count": 36,
     "metadata": {},
     "output_type": "execute_result"
    }
   ],
   "source": [
    "decoded_string = tokenizer.decode([7993, 170, 11303, 1200, 2443, 1110, 3014, 119])\n",
    "decoded_string"
   ]
  },
  {
   "cell_type": "markdown",
   "id": "f602bd6e-c969-40c1-8781-769016fe7762",
   "metadata": {},
   "source": [
    "You could even try decoding random integers. The encoding is entirely dependent on the trained vocabulary of our tokenizer."
   ]
  },
  {
   "cell_type": "code",
   "execution_count": 37,
   "id": "e4209c45-4404-48db-b7f0-af2149080b1f",
   "metadata": {},
   "outputs": [
    {
     "data": {
      "text/plain": [
       "'Hey! Some privacy here!'"
      ]
     },
     "execution_count": 37,
     "metadata": {},
     "output_type": "execute_result"
    }
   ],
   "source": [
    "tokenizer.decode([4403, 106, 1789, 9909, 1303, 106])"
   ]
  },
  {
   "cell_type": "markdown",
   "id": "043b719a-dc70-4667-9f27-2eba4a6f0154",
   "metadata": {},
   "source": [
    "## Using Tokenizers on 🤗 Datasets"
   ]
  },
  {
   "cell_type": "markdown",
   "id": "ba15b870-fb34-4724-b814-2c989145182d",
   "metadata": {},
   "source": [
    "We want to apply tokenization to one of our datasets. Let's try it on the Rotten Tomatoes reviews from before.\n",
    "\n",
    "Remember what our reviews look like:"
   ]
  },
  {
   "cell_type": "code",
   "execution_count": 38,
   "id": "d641ada5-9aa6-4c61-997b-a79cc98759f5",
   "metadata": {},
   "outputs": [
    {
     "data": {
      "text/plain": [
       "{'text': 'the rock is destined to be the 21st century\\'s new \" conan \" and that he\\'s going to make a splash even greater than arnold schwarzenegger , jean-claud van damme or steven segal .',\n",
       " 'label': 1}"
      ]
     },
     "execution_count": 38,
     "metadata": {},
     "output_type": "execute_result"
    }
   ],
   "source": [
    "rotten_tomatoes[0]"
   ]
  },
  {
   "cell_type": "markdown",
   "id": "e2cf01ed-8ec2-4c39-b88c-49e229b9afa8",
   "metadata": {},
   "source": [
    "We can apply the tokenizer to the text field. Notice we are not using the *tokenize* or *convert_tokens_to_ids* methods. What difference do we see?"
   ]
  },
  {
   "cell_type": "code",
   "execution_count": 39,
   "id": "b4bc4254-a704-4fc7-839a-73911dc4a43b",
   "metadata": {},
   "outputs": [
    {
     "data": {
      "text/plain": [
       "{'input_ids': [101, 1103, 2067, 1110, 17348, 1106, 1129, 1103, 6880, 1432, 112, 188, 1207, 107, 14255, 1389, 107, 1105, 1115, 1119, 112, 188, 1280, 1106, 1294, 170, 24194, 1256, 3407, 1190, 170, 11791, 5253, 188, 1732, 7200, 10947, 12606, 2895, 117, 179, 7766, 118, 172, 15554, 1181, 3498, 6961, 3263, 1137, 188, 1566, 7912, 14516, 6997, 119, 102], 'token_type_ids': [0, 0, 0, 0, 0, 0, 0, 0, 0, 0, 0, 0, 0, 0, 0, 0, 0, 0, 0, 0, 0, 0, 0, 0, 0, 0, 0, 0, 0, 0, 0, 0, 0, 0, 0, 0, 0, 0, 0, 0, 0, 0, 0, 0, 0, 0, 0, 0, 0, 0, 0, 0, 0, 0, 0, 0, 0], 'attention_mask': [1, 1, 1, 1, 1, 1, 1, 1, 1, 1, 1, 1, 1, 1, 1, 1, 1, 1, 1, 1, 1, 1, 1, 1, 1, 1, 1, 1, 1, 1, 1, 1, 1, 1, 1, 1, 1, 1, 1, 1, 1, 1, 1, 1, 1, 1, 1, 1, 1, 1, 1, 1, 1, 1, 1, 1, 1]}"
      ]
     },
     "execution_count": 39,
     "metadata": {},
     "output_type": "execute_result"
    }
   ],
   "source": [
    "tokenizer(rotten_tomatoes[0][\"text\"])"
   ]
  },
  {
   "cell_type": "markdown",
   "id": "c10e3b98-9bcb-4fbd-9a09-ba0d8305e554",
   "metadata": {},
   "source": [
    "There is some extra stuff here we haven't seen before. \n",
    "\n",
    "We have a dictionary with *input_ids*, *token_type_ids* and *attention_mask* keys.\n",
    "*token_type_ids* is what is also known as a sequence ID for BERT to signify the end of Sequence A and start of Sequence B. \n",
    "\n",
    "What is the attention mask for? Consider our review again with some slight modifications:"
   ]
  },
  {
   "cell_type": "code",
   "execution_count": 40,
   "id": "5f14e21d-a67b-4546-aa02-59dfdc75fa60",
   "metadata": {},
   "outputs": [
    {
     "data": {
      "text/plain": [
       "{'input_ids': [101, 1103, 2067, 1110, 17348, 1106, 1129, 1103, 6880, 1432, 112, 188, 1207, 107, 14255, 1389, 107, 1105, 1115, 1119, 112, 188, 1280, 1106, 1294, 170, 24194, 1256, 3407, 1190, 170, 11791, 5253, 188, 1732, 7200, 10947, 12606, 2895, 117, 179, 7766, 118, 172, 15554, 1181, 3498, 6961, 3263, 1137, 188, 1566, 7912, 14516, 6997, 119, 102, 0, 0, 0, 0, 0, 0, 0], 'token_type_ids': [0, 0, 0, 0, 0, 0, 0, 0, 0, 0, 0, 0, 0, 0, 0, 0, 0, 0, 0, 0, 0, 0, 0, 0, 0, 0, 0, 0, 0, 0, 0, 0, 0, 0, 0, 0, 0, 0, 0, 0, 0, 0, 0, 0, 0, 0, 0, 0, 0, 0, 0, 0, 0, 0, 0, 0, 0, 0, 0, 0, 0, 0, 0, 0], 'attention_mask': [1, 1, 1, 1, 1, 1, 1, 1, 1, 1, 1, 1, 1, 1, 1, 1, 1, 1, 1, 1, 1, 1, 1, 1, 1, 1, 1, 1, 1, 1, 1, 1, 1, 1, 1, 1, 1, 1, 1, 1, 1, 1, 1, 1, 1, 1, 1, 1, 1, 1, 1, 1, 1, 1, 1, 1, 1, 0, 0, 0, 0, 0, 0, 0]}"
      ]
     },
     "execution_count": 40,
     "metadata": {},
     "output_type": "execute_result"
    }
   ],
   "source": [
    "tokenized_string = tokenizer(rotten_tomatoes[0][\"text\"], padding=True, pad_to_multiple_of=8)\n",
    "tokenized_string"
   ]
  },
  {
   "cell_type": "code",
   "execution_count": 41,
   "id": "2262fc90-da58-46f1-8371-41a6e244a66f",
   "metadata": {},
   "outputs": [
    {
     "data": {
      "text/plain": [
       "'[CLS] the rock is destined to be the 21st century\\'s new \" conan \" and that he\\'s going to make a splash even greater than arnold schwarzenegger, jean - claud van damme or steven segal. [SEP] [PAD] [PAD] [PAD] [PAD] [PAD] [PAD] [PAD]'"
      ]
     },
     "execution_count": 41,
     "metadata": {},
     "output_type": "execute_result"
    }
   ],
   "source": [
    "tokenizer.decode(tokenized_string['input_ids'])"
   ]
  },
  {
   "cell_type": "markdown",
   "id": "1831d629-fa93-4113-833e-fc38b1fdd4c1",
   "metadata": {},
   "source": [
    "Here we see we have added some extra stuff including CLS and SEP tokens as well as padding. \n",
    "\n",
    "What does this tell you in conjunction with the attention mask?\n",
    "\n",
    "The attention mask is configured to ignore PAD tokens, we could even modify this ourselves to not attend to specific parts of our input with our BERT model."
   ]
  },
  {
   "cell_type": "markdown",
   "id": "c803667d-1d52-4c0f-b8e2-53508fe28b9f",
   "metadata": {},
   "source": [
    "With this out of the way we can apply tokenization to our whole dataset using the map function again. Let's define an easy helper function for this."
   ]
  },
  {
   "cell_type": "code",
   "execution_count": 42,
   "id": "1f65a77d-4442-4a22-a958-92f9b09316cb",
   "metadata": {},
   "outputs": [
    {
     "data": {
      "application/vnd.jupyter.widget-view+json": {
       "model_id": "7f8dbc0a101a435c9e1b148f9a393e15",
       "version_major": 2,
       "version_minor": 0
      },
      "text/plain": [
       "Map:   0%|          | 0/8530 [00:00<?, ? examples/s]"
      ]
     },
     "metadata": {},
     "output_type": "display_data"
    }
   ],
   "source": [
    "def tokenization(example):\n",
    "    return tokenizer(example[\"text\"])\n",
    "    \n",
    "### TODO: Tokenize our whole rotten tomatoes dataset.\n",
    "dataset = rotten_tomatoes.map(tokenization, batched=True)"
   ]
  },
  {
   "cell_type": "markdown",
   "id": "afcb5dc8-30d6-4f59-b21d-a75788f14888",
   "metadata": {},
   "source": [
    "Lastly, we can also make it comfortable to prepare a dataset for a specific machine learning framework, such as torch."
   ]
  },
  {
   "cell_type": "code",
   "execution_count": 43,
   "id": "1f2d0086-e6ff-4baf-b72d-aefd58387eb3",
   "metadata": {},
   "outputs": [
    {
     "data": {
      "text/plain": [
       "'torch'"
      ]
     },
     "execution_count": 43,
     "metadata": {},
     "output_type": "execute_result"
    }
   ],
   "source": [
    "dataset.set_format(type=\"torch\", columns=[\"input_ids\", \"token_type_ids\", \"attention_mask\", \"label\"])\n",
    "dataset.format['type']"
   ]
  },
  {
   "cell_type": "markdown",
   "id": "24689940-dd88-44a0-b22e-3f7e60b1c34b",
   "metadata": {},
   "source": [
    "These preparation steps tie seamlessly into using your data with any torch models you might want to try out or train yourself."
   ]
  },
  {
   "cell_type": "markdown",
   "id": "97e9d24a-ccdb-4a87-be7b-fed044346c9c",
   "metadata": {},
   "source": [
    "## Training a Tokenizer on the Drug Dataset\n",
    "\n",
    "Remember our drug dataset from before? We also want to use a tokenizer before working with this text. Let's check out some details again."
   ]
  },
  {
   "cell_type": "code",
   "execution_count": 44,
   "id": "0ee90412-06db-416b-8566-31f02e61daac",
   "metadata": {},
   "outputs": [
    {
     "data": {
      "text/plain": [
       "DatasetDict({\n",
       "    train: Dataset({\n",
       "        features: ['condition', 'review', 'patient_id', 'review_length'],\n",
       "        num_rows: 138514\n",
       "    })\n",
       "    test: Dataset({\n",
       "        features: ['condition', 'review', 'patient_id', 'review_length'],\n",
       "        num_rows: 46108\n",
       "    })\n",
       "})"
      ]
     },
     "execution_count": 44,
     "metadata": {},
     "output_type": "execute_result"
    }
   ],
   "source": [
    "drug_dataset"
   ]
  },
  {
   "cell_type": "code",
   "execution_count": 45,
   "id": "601d8bad-9677-4ee1-ac33-fc150ca71862",
   "metadata": {},
   "outputs": [
    {
     "data": {
      "text/plain": [
       "{'condition': \"crohn's disease\",\n",
       " 'review': '\"I had Crohn&#039;s with a resection 30 years ago and have been mostly in remission since.  Have recently had a bad flare and narrowing at the anastomosis and need to be on medication, but haven&#039;t found one that I can handle.  Asacol gave me such serious body aching and fatigue that I could not function.  Pentasa immediately gave me heart palpitations and arrhythmias so I had to discontinue it.\"',\n",
       " 'patient_id': 191290,\n",
       " 'review_length': 69}"
      ]
     },
     "execution_count": 45,
     "metadata": {},
     "output_type": "execute_result"
    }
   ],
   "source": [
    "drug_dataset['train'][10]"
   ]
  },
  {
   "cell_type": "markdown",
   "id": "93f3b4b8-bedd-41b5-bd33-8fbee77cd1c8",
   "metadata": {},
   "source": [
    "There is some medical language in this example and for sure, this is a medical text corpus. Let's see how one of the stock tokenizers handles this type of data."
   ]
  },
  {
   "cell_type": "code",
   "execution_count": 46,
   "id": "ea8e1ee6-c78c-4102-a892-98b2992df7c5",
   "metadata": {},
   "outputs": [
    {
     "name": "stdout",
     "output_type": "stream",
     "text": [
      "['\"', 'I', 'Ġhad', 'ĠCro', 'hn', '&', '#', '0', '39', ';', 's', 'Ġwith', 'Ġa', 'Ġrese', 'ction', 'Ġ30', 'Ġyears', 'Ġago', 'Ġand', 'Ġhave', 'Ġbeen', 'Ġmostly', 'Ġin', 'Ġremission', 'Ġsince', '.', 'Ġ', 'ĠHave', 'Ġrecently', 'Ġhad', 'Ġa', 'Ġbad', 'Ġflare', 'Ġand', 'Ġnarrowing', 'Ġat', 'Ġthe', 'Ġan', 'ast', 'om', 'osis', 'Ġand', 'Ġneed', 'Ġto', 'Ġbe', 'Ġon', 'Ġmedication', ',', 'Ġbut', 'Ġhaven', '&', '#', '0', '39', ';', 't', 'Ġfound', 'Ġone', 'Ġthat', 'ĠI', 'Ġcan', 'Ġhandle', '.', 'Ġ', 'ĠAs', 'ac', 'ol', 'Ġgave', 'Ġme', 'Ġsuch', 'Ġserious', 'Ġbody', 'Ġa', 'ching', 'Ġand', 'Ġfatigue', 'Ġthat', 'ĠI', 'Ġcould', 'Ġnot', 'Ġfunction', '.', 'Ġ', 'ĠPent', 'asa', 'Ġimmediately', 'Ġgave', 'Ġme', 'Ġheart', 'Ġpal', 'pit', 'ations', 'Ġand', 'Ġarr', 'h', 'ythm', 'ias', 'Ġso', 'ĠI', 'Ġhad', 'Ġto', 'Ġdiscontin', 'ue', 'Ġit', '.\"']\n"
     ]
    }
   ],
   "source": [
    "stock_tokenizer = AutoTokenizer.from_pretrained(\"gpt2\")\n",
    "\n",
    "example = drug_dataset['train'][10]['review']\n",
    "\n",
    "tokens = stock_tokenizer.tokenize(example)\n",
    "print(tokens)"
   ]
  },
  {
   "cell_type": "markdown",
   "id": "78db1b61-a6e9-49af-9ce0-56b24c87fbc0",
   "metadata": {},
   "source": [
    "Not great. We manage to do some tokenization but a lot of medical terms are split up and don't form complete tokens. This can make it hard for all sorts of tasks we might want to do with our dataset.\n",
    "\n",
    "Also note the GPT2 specific markers included in the tokenization. This does not look like the BERT one at all and using the wrong tokenizer will really mess up your model if you try to pipe the text into it.\n",
    "\n",
    "We want to update our tokenizer without having to retrain it completely. Before trying to train a new dataset we should try to make the processing more efficient, so we will provide a generator function to chunk our data:"
   ]
  },
  {
   "cell_type": "code",
   "execution_count": 47,
   "id": "4e8d3125-3c72-4dcd-8266-88aaa1408482",
   "metadata": {},
   "outputs": [],
   "source": [
    "def get_training_corpus(loaded_dataset):\n",
    "    dataset = loaded_dataset[\"train\"]\n",
    "    for start_idx in range(0, len(dataset), 1000):\n",
    "        samples = dataset[start_idx : start_idx + 1000]\n",
    "        yield samples[\"review\"]"
   ]
  },
  {
   "cell_type": "code",
   "execution_count": 48,
   "id": "a2f4252b-aafe-4434-9de2-89537de09472",
   "metadata": {},
   "outputs": [],
   "source": [
    "training_corpus = get_training_corpus(drug_dataset)"
   ]
  },
  {
   "cell_type": "markdown",
   "id": "7f15efff-e72a-4e93-bed5-8535df583d39",
   "metadata": {},
   "source": [
    "Now we want to update our tokenizer. Use an appropriate function which you can find in the documentation of the [PreTrainedTokenizerFast](https://huggingface.co/transformers/v4.9.2/main_classes/tokenizer.html#pretrainedtokenizerfast) class on Huggingface."
   ]
  },
  {
   "cell_type": "code",
   "execution_count": 49,
   "id": "b086b45f-4e1f-417f-9b38-76df8f900177",
   "metadata": {},
   "outputs": [
    {
     "name": "stdout",
     "output_type": "stream",
     "text": [
      "\n",
      "\n",
      "\n",
      "CPU times: user 38.8 s, sys: 1.79 s, total: 40.6 s\n",
      "Wall time: 7.06 s\n"
     ]
    }
   ],
   "source": [
    "%%time\n",
    "# Let's also time how long it takes to update our tokenizer, considering we need to go through 138k reviews.\n",
    "\n",
    "### TODO: Train the new tokenizer\n",
    "new_tokenizer = stock_tokenizer.train_new_from_iterator(training_corpus, 76000)"
   ]
  },
  {
   "cell_type": "markdown",
   "id": "af9eea53-bc23-4af7-b518-9d7369420f3c",
   "metadata": {},
   "source": [
    "That did not take too long. It's usually worth it to update our tokenization for our current corpus. Let's see if we did any better than before:"
   ]
  },
  {
   "cell_type": "code",
   "execution_count": 50,
   "id": "206bdb83-ce2d-485d-bfbe-5e279fd0cef9",
   "metadata": {},
   "outputs": [
    {
     "name": "stdout",
     "output_type": "stream",
     "text": [
      "['\"', 'I', 'Ġhad', 'ĠCrohn', '&#', '039', ';', 's', 'Ġwith', 'Ġa', 'Ġresection', 'Ġ30', 'Ġyears', 'Ġago', 'Ġand', 'Ġhave', 'Ġbeen', 'Ġmostly', 'Ġin', 'Ġremission', 'Ġsince', '.', 'Ġ', 'ĠHave', 'Ġrecently', 'Ġhad', 'Ġa', 'Ġbad', 'Ġflare', 'Ġand', 'Ġnarrowing', 'Ġat', 'Ġthe', 'Ġanast', 'om', 'osis', 'Ġand', 'Ġneed', 'Ġto', 'Ġbe', 'Ġon', 'Ġmedication', ',', 'Ġbut', 'Ġhaven', '&#', '039', ';', 't', 'Ġfound', 'Ġone', 'Ġthat', 'ĠI', 'Ġcan', 'Ġhandle', '.', 'Ġ', 'ĠAsacol', 'Ġgave', 'Ġme', 'Ġsuch', 'Ġserious', 'Ġbody', 'Ġaching', 'Ġand', 'Ġfatigue', 'Ġthat', 'ĠI', 'Ġcould', 'Ġnot', 'Ġfunction', '.', 'Ġ', 'ĠPentasa', 'Ġimmediately', 'Ġgave', 'Ġme', 'Ġheart', 'Ġpalpitations', 'Ġand', 'Ġarrhythmias', 'Ġso', 'ĠI', 'Ġhad', 'Ġto', 'Ġdiscontinue', 'Ġit', '.\"']\n",
      "88\n",
      "105\n"
     ]
    }
   ],
   "source": [
    "tokens = new_tokenizer.tokenize(example)\n",
    "print(tokens)\n",
    "print(len(tokens))\n",
    "print(len(stock_tokenizer.tokenize(example)))"
   ]
  },
  {
   "cell_type": "markdown",
   "id": "0f9ab380-bf22-409d-8f0a-795607909415",
   "metadata": {},
   "source": [
    "Nice! We ended up with less tokens than before. Notice how we got a lot of medical terms correctly tokenized now, which is probably good if we want to work on a medical domain task!"
   ]
  },
  {
   "cell_type": "markdown",
   "id": "77fb4425-5241-4719-99fb-e279800328da",
   "metadata": {},
   "source": [
    "### **Conclusion**\n",
    "\n",
    "Preprocessing of textual data can make a big difference in your tasks already, even before you start touching the actual ML models. Understanding your task and data is vital in any field of data science or machine learning, so make sure you spend an appropriate amount of time getting familiar with the ins-and-outs of your data. Libraries like 🤗 Datasets can help at efficient data processing and offer way more than what we covered in this tutorial, so check it out yourself."
   ]
  }
 ],
 "metadata": {
  "kernelspec": {
   "display_name": "Python 3 (ipykernel)",
   "language": "python",
   "name": "python3"
  },
  "language_info": {
   "codemirror_mode": {
    "name": "ipython",
    "version": 3
   },
   "file_extension": ".py",
   "mimetype": "text/x-python",
   "name": "python",
   "nbconvert_exporter": "python",
   "pygments_lexer": "ipython3",
   "version": "3.10.12"
  }
 },
 "nbformat": 4,
 "nbformat_minor": 5
}
